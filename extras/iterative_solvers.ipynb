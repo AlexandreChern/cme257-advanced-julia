{
 "cells": [
  {
   "cell_type": "markdown",
   "metadata": {},
   "source": [
    "# Iterative Solvers with Linear Operators\n",
    "\n",
    "Here we demo how to solve data-sparse linear operators with an iterative solver.  Essentially we'd like to solve\n",
    "$$Ax = b$$\n",
    "for $x$, where $A$ may have some special structure\n",
    "\n",
    "The two packages we'll use are\n",
    "* [LinearOperators.jl](https://juliasmoothoptimizers.github.io/LinearOperators.jl/latest/index.html)\n",
    "* [IterativeSolvers.jl](https://juliamath.github.io/IterativeSolvers.jl/latest/)\n",
    "\n",
    "In the exercises, you can also try out\n",
    "* [RandomizedLinAlg.jl](https://haampie.github.io/RandomizedLinAlg.jl/latest/)\n",
    "\n",
    "Which allows you to use randomized algorithms on linear operators.  Note that this package is still not very well developed."
   ]
  },
  {
   "cell_type": "code",
   "execution_count": null,
   "metadata": {},
   "outputs": [],
   "source": [
    "using LinearOperators, IterativeSolvers"
   ]
  },
  {
   "cell_type": "code",
   "execution_count": null,
   "metadata": {},
   "outputs": [],
   "source": [
    "n = 100\n",
    "v = randn(n,1)\n",
    "v = v/norm(v)\n",
    "opV = LinearOperator(v)\n",
    "A = v*v'\n",
    "opA = opV * opV'\n",
    ";"
   ]
  },
  {
   "cell_type": "code",
   "execution_count": null,
   "metadata": {},
   "outputs": [],
   "source": [
    "x = randn(n)\n",
    "@time b1 = A * x\n",
    "@time b2 = opA*x\n",
    "@show norm(b1-b2)\n",
    ";"
   ]
  },
  {
   "cell_type": "markdown",
   "metadata": {},
   "source": [
    "## Use with ARPACK wrapped functions\n",
    "\n",
    "You can use a LinearOperator with Julia's interface to [ARPACK](http://www.caam.rice.edu/software/ARPACK/) via [eigs](https://docs.julialang.org/en/stable/stdlib/linalg/#Base.LinAlg.eigs-Tuple{Any}) and [svds](https://docs.julialang.org/en/stable/stdlib/linalg/#Base.LinAlg.svds)\n"
   ]
  },
  {
   "cell_type": "code",
   "execution_count": null,
   "metadata": {},
   "outputs": [],
   "source": [
    "# note that for some operators, you may neet to set Hermitan flags\n",
    "@show hermitian(opA)\n",
    "opA.hermitian=true\n",
    "opA.symmetric=true\n",
    "@show hermitian(opA)\n",
    ";"
   ]
  },
  {
   "cell_type": "code",
   "execution_count": null,
   "metadata": {},
   "outputs": [],
   "source": [
    "@time (E, V) = eigs(opA; nev=2, which=:LM)\n",
    "@time (E2, V2) = eigs(A; nev=2, which=:LM)\n",
    ";"
   ]
  },
  {
   "cell_type": "code",
   "execution_count": null,
   "metadata": {},
   "outputs": [],
   "source": [
    "E"
   ]
  },
  {
   "cell_type": "markdown",
   "metadata": {},
   "source": [
    "## Use with IterativeSolvers package"
   ]
  },
  {
   "cell_type": "code",
   "execution_count": null,
   "metadata": {},
   "outputs": [],
   "source": [
    "@show c = sqrt(2*log(n))\n",
    "opA2 = (2*c)*opA + Diagonal(abs.(randn(n))) # spiked model\n",
    "opA2.symmetric=true\n",
    "opA2.hermitian=true\n",
    "opA2"
   ]
  },
  {
   "cell_type": "code",
   "execution_count": null,
   "metadata": {},
   "outputs": [],
   "source": [
    "x_true = randn(n)\n",
    "b = opA2 * x_true\n",
    "@time x_est_minres = minres(opA2, b)\n",
    "@time x_est_cg = cg(opA2, b)\n",
    "@show norm(b - opA2*x_est_minres)\n",
    "@show norm(b - opA2*x_est_cg)\n",
    ";"
   ]
  },
  {
   "cell_type": "code",
   "execution_count": null,
   "metadata": {},
   "outputs": [],
   "source": [
    "A2 = full(opA2)\n",
    "@time x_est = A2\\b\n",
    "@show norm(b - A2*x_est)\n",
    ";"
   ]
  },
  {
   "cell_type": "markdown",
   "metadata": {},
   "source": [
    "## Exercises/Extras\n",
    "\n",
    "If you're interested, try out one or more of the following exercises:\n",
    "\n",
    "1. Try out the randomized linear algebra package [RandomizedLinAlg.jl](https://haampie.github.io/RandomizedLinAlg.jl/latest/).  Try using the ```rnorms``` function to estimate the matrix norm.\n",
    "\n",
    "2. Make a plot of how long it takes to solve $Ax = b$ for $A$ diagonal + rank-1, for various sizes of problems. Estimate how long it would take to solve the equivalent problem using the full matrix\n",
    "\n",
    "3. You can also use sparse matrices as LinearOperators, and with iterative solvers.  Use [sprand](https://docs.julialang.org/en/stable/stdlib/arrays/#Base.SparseArrays.sprand) to generate sparse matrices of various sizes and try using [gmres](https://juliamath.github.io/IterativeSolvers.jl/latest/linear_systems/gmres.html) to solve some linear systems.\n",
    "\n",
    "4. Check out the [tutorial](https://juliasmoothoptimizers.github.io/LinearOperators.jl/latest/tutorial.html#Using-functions-1) on how to use functions as linear operators"
   ]
  },
  {
   "cell_type": "code",
   "execution_count": null,
   "metadata": {},
   "outputs": [],
   "source": []
  }
 ],
 "metadata": {
  "kernelspec": {
   "display_name": "Julia 0.6.2",
   "language": "julia",
   "name": "julia-0.6"
  },
  "language_info": {
   "file_extension": ".jl",
   "mimetype": "application/julia",
   "name": "julia",
   "version": "0.6.2"
  }
 },
 "nbformat": 4,
 "nbformat_minor": 1
}
