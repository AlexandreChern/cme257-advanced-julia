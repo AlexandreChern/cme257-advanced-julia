{
 "cells": [
  {
   "cell_type": "markdown",
   "metadata": {},
   "source": [
    "# Data and Plots\n",
    "\n",
    "Here we'll demo some of the features of the Plots package in Julia.\n",
    "\n",
    "You can find documentation [here](http://docs.juliaplots.org/latest/).\n",
    "\n",
    "There are several backends you can use for Plots.  Try out [PyPlot](https://github.com/JuliaPy/PyPlot.jl), [PlotlyJS](http://spencerlyon.com/PlotlyJS.jl/) and/or [GR](https://github.com/jheinen/GR.jl).\n",
    "\n",
    "Note that different backends may support different behavior."
   ]
  },
  {
   "cell_type": "code",
   "execution_count": null,
   "metadata": {},
   "outputs": [],
   "source": [
    "using Plots, StatPlots, DataFrames, RDatasets"
   ]
  },
  {
   "cell_type": "markdown",
   "metadata": {
    "collapsed": true
   },
   "source": [
    "# Quick Intro to DataFrames\n",
    "\n",
    "[DataFrames](https://juliadata.github.io/DataFrames.jl/latest/) are for working with tabular data in Julia.  Many features will be familiar if you have used pandas in Python, or R.\n",
    "\n",
    "The [RDatasets](https://github.com/johnmyleswhite/RDatasets.jl) package provides a way to access many common test datasets used in R in Julia.\n",
    "\n",
    "For handling a variety of data, check out the [Query.jl](http://www.david-anthoff.com/Query.jl/stable/) package."
   ]
  },
  {
   "cell_type": "code",
   "execution_count": null,
   "metadata": {},
   "outputs": [],
   "source": [
    "using DataFrames, RDatasets\n",
    "iris = dataset(\"datasets\",\"iris\")"
   ]
  },
  {
   "cell_type": "markdown",
   "metadata": {},
   "source": [
    "You can access columns of a dataframe using a [symbol](https://docs.julialang.org/en/stable/manual/metaprogramming/#Symbols-1) (for now, think of it as a type of string), or regular array indexing"
   ]
  },
  {
   "cell_type": "code",
   "execution_count": null,
   "metadata": {},
   "outputs": [],
   "source": [
    "@show iris[:SepalLength]\n",
    "@show iris[1,:]\n",
    "@show iris[:,1]\n",
    ";"
   ]
  },
  {
   "cell_type": "markdown",
   "metadata": {},
   "source": [
    "# StatPlots\n",
    "\n",
    "The [StatPlots](https://github.com/JuliaPlots/StatPlots.jl) package is built on top of the Plots package, and provides statistics-related functionality, and works well with DataFrames."
   ]
  },
  {
   "cell_type": "code",
   "execution_count": null,
   "metadata": {},
   "outputs": [],
   "source": [
    "using StatPlots"
   ]
  },
  {
   "cell_type": "code",
   "execution_count": null,
   "metadata": {},
   "outputs": [],
   "source": [
    "@df iris marginalhist(:PetalLength, :PetalWidth)"
   ]
  },
  {
   "cell_type": "code",
   "execution_count": null,
   "metadata": {},
   "outputs": [],
   "source": [
    "@df iris corrplot(cols(1:4), grid = false)"
   ]
  },
  {
   "cell_type": "markdown",
   "metadata": {},
   "source": [
    "# Plots\n",
    "\n",
    "We've already played around a bit with basic plots.  Here, we'll look at a few more topics\n",
    "\n",
    "## Subplots\n",
    "\n",
    "For more information on layouts, see [here](http://docs.juliaplots.org/latest/layouts/)\n"
   ]
  },
  {
   "cell_type": "code",
   "execution_count": null,
   "metadata": {},
   "outputs": [],
   "source": [
    "gr() # gr backend, also try pyplot(), plotlyjs()\n",
    "# each column of the input will go to a different plot\n",
    "plot(rand(100,4), randn(100,4), layout = grid(2,2), seriestype = [:bar :scatter :path :scatter])"
   ]
  },
  {
   "cell_type": "markdown",
   "metadata": {},
   "source": [
    "## PlotlyJS\n",
    "\n",
    "PlotlyJS is a Javascript library for plotting, and allows for some interactivity with plots"
   ]
  },
  {
   "cell_type": "code",
   "execution_count": null,
   "metadata": {},
   "outputs": [],
   "source": [
    "function sample_sphere(n::Int64)\n",
    "    X = randn(3,n)\n",
    "    norms = sqrt.(sum(X.^2,1))\n",
    "    for j = 1:n\n",
    "        for i = 1:3\n",
    "           X[i,j] = X[i,j]/norms[j] \n",
    "        end\n",
    "    end\n",
    "    return X\n",
    "end\n",
    "\n",
    "plotlyjs()\n",
    "scatter(X[1,:], X[2,:], X[3,:])"
   ]
  },
  {
   "cell_type": "markdown",
   "metadata": {},
   "source": [
    "## Making a gif\n",
    "\n",
    "You can see some cool examples of this on the [Plots.jl homepage](http://docs.juliaplots.org/latest/).  The basic tool is the ```@gif``` macro"
   ]
  },
  {
   "cell_type": "code",
   "execution_count": null,
   "metadata": {},
   "outputs": [],
   "source": [
    "using Plots, ProgressMeter\n",
    "pyplot(leg=false, ticks=nothing)\n",
    "n = 50\n",
    "ts = linspace(-π,π,n)\n",
    "xs = linspace(-5*π, 5*π, 300)\n",
    "\n",
    "# create a progress bar for tracking the animation generation\n",
    "prog = Progress(n,1)\n",
    "\n",
    "@gif for t in ts\n",
    "    plot(xs, sin.(xs-t))\n",
    "\n",
    "    # increment the progress bar\n",
    "    next!(prog)\n",
    "end"
   ]
  },
  {
   "cell_type": "markdown",
   "metadata": {},
   "source": [
    "# Exercises/Extras\n",
    "\n",
    "* Take some data that you have for one reason or another, and try visualizing it in a fun/useful way\n",
    "* Try out the [Interact.jl](https://github.com/JuliaGizmos/Interact.jl) package, and make an interactive plot.\n",
    "* Look at some of the advanced plot layout functionality, and try out the [examples](http://docs.juliaplots.org/latest/layouts/)\n",
    "\n"
   ]
  },
  {
   "cell_type": "code",
   "execution_count": null,
   "metadata": {},
   "outputs": [],
   "source": []
  }
 ],
 "metadata": {
  "kernelspec": {
   "display_name": "Julia 0.6.2",
   "language": "julia",
   "name": "julia-0.6"
  },
  "language_info": {
   "file_extension": ".jl",
   "mimetype": "application/julia",
   "name": "julia",
   "version": "0.6.2"
  }
 },
 "nbformat": 4,
 "nbformat_minor": 1
}
