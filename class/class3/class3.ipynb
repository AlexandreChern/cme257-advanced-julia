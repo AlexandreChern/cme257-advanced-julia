{
 "cells": [
  {
   "cell_type": "markdown",
   "metadata": {},
   "source": [
    "# CME 257 - Julia Packages\n",
    "\n",
    "(This IJulia notebook is tested using Julia [v0.4.0-rc3](https://github.com/JuliaLang/julia/releases))\n",
    "\n",
    "Julia currently has [over 700 packages](http://pkg.julialang.org/pulse.html) registered.  This includes relatively mature and popular pacakges as well as packages that are just getting off the ground.\n",
    "\n",
    "Today we'll look a bit more at the package manager and some popular Julia packages."
   ]
  },
  {
   "cell_type": "markdown",
   "metadata": {},
   "source": [
    "You have already used [Pkg.add()](http://julia.readthedocs.org/en/latest/stdlib/pkg/#Base.Pkg.add) to start using packages such as IJulia and PyPlot.  You can also add a version number to the arguments to use a particular version of a package.  You can use [Pkg.available()](http://julia.readthedocs.org/en/latest/stdlib/pkg/#Base.Pkg.available) to list available versions of a package."
   ]
  },
  {
   "cell_type": "code",
   "execution_count": null,
   "metadata": {
    "collapsed": false
   },
   "outputs": [],
   "source": [
    "Pkg.available(\"Gadfly\")"
   ]
  },
  {
   "cell_type": "markdown",
   "metadata": {},
   "source": [
    "Recall that you can use Pkg.status() to view all your installed packages.  Required pacakges are those that you specifically added.  Additional packages are those that are required as dependencies of the required packages."
   ]
  },
  {
   "cell_type": "code",
   "execution_count": null,
   "metadata": {
    "collapsed": false
   },
   "outputs": [],
   "source": [
    "Pkg.status()"
   ]
  },
  {
   "cell_type": "markdown",
   "metadata": {},
   "source": [
    "If you want to see if a particular package is installed, you can use Pkg.installed()"
   ]
  },
  {
   "cell_type": "code",
   "execution_count": null,
   "metadata": {
    "collapsed": false
   },
   "outputs": [],
   "source": [
    "Pkg.installed(\"IJulia\")"
   ]
  },
  {
   "cell_type": "markdown",
   "metadata": {},
   "source": [
    "Sometimes after updating a package you may need to re-build it."
   ]
  },
  {
   "cell_type": "code",
   "execution_count": null,
   "metadata": {
    "collapsed": false
   },
   "outputs": [],
   "source": [
    "Pkg.build(\"Gadfly\")"
   ]
  },
  {
   "cell_type": "markdown",
   "metadata": {},
   "source": [
    "If you're having trouble getting packages to play nicely, you can try using [Pkg.resolve()](http://julia.readthedocs.org/en/latest/stdlib/pkg/#Base.Pkg.resolve)."
   ]
  },
  {
   "cell_type": "code",
   "execution_count": null,
   "metadata": {
    "collapsed": false
   },
   "outputs": [],
   "source": [
    "Pkg.resolve()"
   ]
  },
  {
   "cell_type": "markdown",
   "metadata": {},
   "source": [
    "If you're debugging a package, Pkg.test() will run tests provided with a package"
   ]
  },
  {
   "cell_type": "code",
   "execution_count": null,
   "metadata": {
    "collapsed": false
   },
   "outputs": [],
   "source": [
    "Pkg.test(\"PyCall\")"
   ]
  },
  {
   "cell_type": "markdown",
   "metadata": {},
   "source": [
    "If you want to use a package that is not a registered Julia package or if you want to use the current development branch of a package, use Pkg.clone() with a GitHub URL."
   ]
  },
  {
   "cell_type": "code",
   "execution_count": null,
   "metadata": {
    "collapsed": false
   },
   "outputs": [],
   "source": [
    "Pkg.clone(\"git@github.com:JuliaSparse/Metis.jl.git\")"
   ]
  },
  {
   "cell_type": "code",
   "execution_count": null,
   "metadata": {
    "collapsed": false
   },
   "outputs": [],
   "source": [
    "Pkg.status()"
   ]
  },
  {
   "cell_type": "code",
   "execution_count": null,
   "metadata": {
    "collapsed": false
   },
   "outputs": [],
   "source": [
    "Pkg.rm(\"Metis\")"
   ]
  },
  {
   "cell_type": "code",
   "execution_count": null,
   "metadata": {
    "collapsed": false
   },
   "outputs": [],
   "source": [
    "Pkg.status()"
   ]
  },
  {
   "cell_type": "markdown",
   "metadata": {},
   "source": [
    "# Interact.jl\n",
    "\n",
    "Julia's [interact package](https://github.com/JuliaLang/Interact.jl) lets you create widgets that you can manipulate (similar to Mathematica)"
   ]
  },
  {
   "cell_type": "code",
   "execution_count": null,
   "metadata": {
    "collapsed": false
   },
   "outputs": [],
   "source": [
    "using Interact\n",
    "using Gadfly\n",
    "# Interact plays nicely with Gadfly\n",
    "# you may have trouble with PyPlot."
   ]
  },
  {
   "cell_type": "code",
   "execution_count": null,
   "metadata": {
    "collapsed": false
   },
   "outputs": [],
   "source": [
    "# this example is from the Interact.jl GitHub page: https://github.com/JuliaLang/Interact.jl\n",
    "@manipulate for ϕ=0:π/16:4π, f=[:sin => sin, :cos => cos]\n",
    "    plot(θ -> f(θ + ϕ), 0, 25)\n",
    "end"
   ]
  },
  {
   "cell_type": "code",
   "execution_count": null,
   "metadata": {
    "collapsed": false
   },
   "outputs": [],
   "source": [
    "using AudioIO, Interact, Gadfly"
   ]
  },
  {
   "cell_type": "code",
   "execution_count": null,
   "metadata": {
    "collapsed": false
   },
   "outputs": [],
   "source": [
    "# example due to Sashi Gowda https://github.com/shashi\n",
    "# source: https://github.com/JuliaLang/Interact.jl/issues/36\n",
    "s1 = SinOsc(220)\n",
    "s2 = SinOsc(220)\n",
    "@manipulate for f1=100:880, f2 = 110:880\n",
    "    s1.renderer.freq = f1\n",
    "    s2.renderer.freq = f2\n",
    "    plot(t->sin(f1*2pi*t) + sin(f2*2pi*t), 0, 2pi)\n",
    "end\n",
    "play(s1)\n",
    "play(s2)\n",
    ";"
   ]
  },
  {
   "cell_type": "code",
   "execution_count": null,
   "metadata": {
    "collapsed": false
   },
   "outputs": [],
   "source": [
    "stop(s1)\n",
    "stop(s2)"
   ]
  },
  {
   "cell_type": "code",
   "execution_count": null,
   "metadata": {
    "collapsed": false,
    "scrolled": true
   },
   "outputs": [],
   "source": [
    "using Colors, Compose, Interact"
   ]
  },
  {
   "cell_type": "code",
   "execution_count": null,
   "metadata": {
    "collapsed": false
   },
   "outputs": [],
   "source": [
    "# example due to Steven Johnson https://github.com/stevengj\n",
    "# source: https://github.com/JuliaLang/Interact.jl/issues/36\n",
    "const colors = distinguishable_colors(6)\n",
    "function sierpinski(n, colorindex=1)\n",
    "    if n == 0\n",
    "        compose(context(), circle(0.5,0.5,0.5), fill(colors[colorindex]))\n",
    "    else\n",
    "        colorindex = colorindex % length(colors) + 1\n",
    "        t1 = sierpinski(n - 1, colorindex)\n",
    "        colorindex = colorindex % length(colors) + 1\n",
    "        t2 = sierpinski(n - 1, colorindex)\n",
    "        colorindex = colorindex % length(colors) + 1\n",
    "        t3 = sierpinski(n - 1, colorindex)\n",
    "        compose(context(),\n",
    "                (context(1/4,   0, 1/2, 1/2), t1),\n",
    "                (context(  0, 1/2, 1/2, 1/2), t2),\n",
    "                (context(1/2, 1/2, 1/2, 1/2), t3))\n",
    "    end\n",
    "end\n",
    "\n",
    "@manipulate for n = 1:8\n",
    "    sierpinski(n)\n",
    "end"
   ]
  },
  {
   "cell_type": "markdown",
   "metadata": {},
   "source": [
    "# DataFrames\n",
    "\n",
    "Julia has a [DataFrames](https://github.com/JuliaStats/DataFrames.jl) package to help you work with data sets and tabular data.  You can also add the [RDatasets package](https://github.com/johnmyleswhite/RDatasets.jl) to access classical datasets to play around with."
   ]
  },
  {
   "cell_type": "code",
   "execution_count": null,
   "metadata": {
    "collapsed": false
   },
   "outputs": [],
   "source": [
    "using RDatasets\n",
    "iris = dataset(\"datasets\", \"iris\")\n",
    "@show typeof(iris)\n",
    ";"
   ]
  },
  {
   "cell_type": "markdown",
   "metadata": {},
   "source": [
    "You can use DataFrames with Gadfly for R-like plotting"
   ]
  },
  {
   "cell_type": "code",
   "execution_count": null,
   "metadata": {
    "collapsed": false
   },
   "outputs": [],
   "source": [
    "# example from Gadfly home: https://github.com/dcjones/Gadfly.jl\n",
    "using Gadfly\n",
    "plot(iris, x=\"SepalLength\", y=\"SepalWidth\", Geom.point)"
   ]
  },
  {
   "cell_type": "markdown",
   "metadata": {},
   "source": [
    "# Exercise 1\n",
    "* Add Gadfly, DataFrames, and RDatasets to your packages.\n",
    "* load the \"iris\" dataset from the \"dataset\" package in RDatasets (or the dataset of your choice)\n",
    "* play around with Gadfly or other plotting package, and see if you can find a cool way to visualize the data (don't just use the above example)"
   ]
  },
  {
   "cell_type": "markdown",
   "metadata": {},
   "source": [
    "# Distributions\n",
    "\n",
    "Sometimes you may want to draw random numbers from a distribution other than the normal (Julia's randn()), and uniform (Julia's rand()) distributions.  The [Distributions package](https://github.com/JuliaStats/Distributions.jl) provides these distributions for you."
   ]
  },
  {
   "cell_type": "code",
   "execution_count": null,
   "metadata": {
    "collapsed": true
   },
   "outputs": [],
   "source": [
    "using Distributions"
   ]
  },
  {
   "cell_type": "code",
   "execution_count": null,
   "metadata": {
    "collapsed": false
   },
   "outputs": [],
   "source": [
    "srand(1000) # set random seed\n",
    "normal_d = Normal() # create distribution"
   ]
  },
  {
   "cell_type": "code",
   "execution_count": null,
   "metadata": {
    "collapsed": false
   },
   "outputs": [],
   "source": [
    "x = rand(normal_d, 100) # create an array of 100 random entries drawn from the distribution"
   ]
  },
  {
   "cell_type": "markdown",
   "metadata": {},
   "source": [
    "# Exercise 2\n",
    "\n",
    "* combine the distributions package and interact package to visualize the pdf of an exponential distribution for different values of $\\beta$.\n",
    "* modify the code to visualize a different distribution of your choice.\n",
    "\n",
    "see [univariate distributions](http://distributionsjl.readthedocs.org/en/latest/univariate.html)"
   ]
  },
  {
   "cell_type": "markdown",
   "metadata": {},
   "source": [
    "# Optimization Packages\n",
    "\n",
    "Julia's optimization packages are some of its most popular features.  You can start exploring on [http://www.juliaopt.org/](http://www.juliaopt.org/).  \n",
    "\n",
    "If you're not familiar with numerical optimization, you may find the JuliaOpt website a bit confusing at first, so here's a basic primer:\n",
    "\n",
    "Numerical optimization seeks to find solutions so problems that are generally of the form\n",
    "\n",
    "$$ \\min_x f(x) \\qquad s.t.~c(x) \\le b $$\n",
    "\n",
    "For example, you may wish to minimize \n",
    "\n",
    "$$ f(x) = x^2 $$\n",
    "\n",
    "with no constraints.  The idea is that you want to give this function to a computer and it will tell you the answer.  Yes, you can minimize this particular example by hand, but you may also wish to optimize a function that is not as trivial.\n",
    "\n",
    "Typically, there are several layers to numerical optimization, which we can see in JuliaOpt.  The top level, which users usually interact with are algebraic modelling languages which take human-readable input and transform it into a problem that the computer can solve.  JuliaOpt's algebraic modelling languages are:\n",
    "* JuMP (produced by Miles Lubin and Iain Dunning at MIT)\n",
    "* Convex (similar to CVX - it also comes out of Stephen Boyd's group)\n",
    "\n",
    "Your choice of modelling language will depend on what kind of problem you want to solve, and what you are familiar with.\n",
    "\n",
    "The layer beneath the modelling language is MathProgBase, which standardizes interfaces to the solvers.  Solvers are at the bottom level, and they implement specific routines for particular types of optimization problems.  These do the heavy lifting for computations.\n",
    "\n",
    "Julia also has some stand-alone packages that don't fall under this heirarchy:\n",
    "* Optim\n",
    "* LsqFit\n",
    "\n",
    "Here are two examples that use optimization packages:"
   ]
  },
  {
   "cell_type": "code",
   "execution_count": null,
   "metadata": {
    "collapsed": true
   },
   "outputs": [],
   "source": [
    "using Optim"
   ]
  },
  {
   "cell_type": "code",
   "execution_count": null,
   "metadata": {
    "collapsed": false
   },
   "outputs": [],
   "source": [
    "f(x::Vector) = x.^2\n",
    "\n",
    "optimize(f, -1.0, 1.0)"
   ]
  },
  {
   "cell_type": "code",
   "execution_count": null,
   "metadata": {
    "collapsed": false
   },
   "outputs": [],
   "source": [
    "using Convex, SCS"
   ]
  },
  {
   "cell_type": "code",
   "execution_count": null,
   "metadata": {
    "collapsed": false
   },
   "outputs": [],
   "source": [
    "# from http://convexjl.readthedocs.org/en/latest/quick_tutorial.html\n",
    "m = 4;  n = 5\n",
    "A = randn(m, n); b = randn(m, 1)\n",
    "\n",
    "# Create a (column vector) variable of size n x 1.\n",
    "x = Variable(n)\n",
    "\n",
    "# The problem is to minimize ||Ax - b||^2 subject to x >= 0\n",
    "# This can be done by: minimize(objective, constraints)\n",
    "problem = minimize(sum_squares(A * x - b), [x >= 0])\n",
    "\n",
    "# Solve the problem by calling solve!\n",
    "solve!(problem)\n",
    "\n",
    "# Check the status of the problem\n",
    "problem.status # :Optimal, :Infeasible, :Unbounded etc.\n",
    "\n",
    "# Get the optimum value\n",
    "problem.optval\n",
    "\n",
    "@show x.value\n",
    ";"
   ]
  },
  {
   "cell_type": "markdown",
   "metadata": {},
   "source": [
    "# Exercise 3\n",
    "\n",
    "* Use an optimization package to minimize the following function\n",
    "$$F(x,y) = (x-1)^2 + (y-2)^2$$"
   ]
  },
  {
   "cell_type": "code",
   "execution_count": null,
   "metadata": {
    "collapsed": true
   },
   "outputs": [],
   "source": []
  }
 ],
 "metadata": {
  "kernelspec": {
   "display_name": "Julia 0.4.0-rc3",
   "language": "julia",
   "name": "julia-0.4"
  },
  "language_info": {
   "file_extension": ".jl",
   "mimetype": "application/julia",
   "name": "julia",
   "version": "0.4.0"
  }
 },
 "nbformat": 4,
 "nbformat_minor": 0
}
