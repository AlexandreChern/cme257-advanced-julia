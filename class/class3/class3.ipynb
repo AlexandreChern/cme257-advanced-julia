{
 "cells": [
  {
   "cell_type": "markdown",
   "metadata": {},
   "source": [
    "# Julia Packages\n",
    "\n",
    "So far, we've seen\n",
    "* basic Julia syntax\n",
    "* the Julia type system\n",
    "\n",
    "Today, we're going to \n",
    "* See some of the features of the package manager\n",
    "* Demo some packages for numerical linear algebra\n",
    "* Demo some packages for visualization\n",
    "* Since you all may have different ideas of what packages you may want to use, we'll try to have some open-ended time for trying out whatever you'd like.  I can (try to) help with any installation issues, or depending on the pacakge, perhaps some basic usage.\n",
    "\n",
    "Future plan\n",
    "* Next week: git version control and how to make your own package\n",
    "* Second half of the class: \"Advanced Topics\" portion of the course\n",
    "\n",
    "## Packages We May Use Today\n",
    "\n",
    "* LinearOperators\n",
    "* IterativeSolvers\n",
    "* DataFrames\n",
    "* Plots\n",
    "* ProgressMeter\n",
    "* StatPlots\n",
    "* RDatasets\n",
    "* GR\n",
    "* PyPlot\n",
    "* PlotlyJS\n",
    "* Interact\n",
    "\n",
    "Go ahead and ```Pkg.add``` them in Julia.\n",
    "\n",
    "\n",
    "# Packages\n",
    "\n",
    "(This IJulia notebook is tested using Julia [v0.6.2](https://github.com/JuliaLang/julia/releases))\n",
    "\n",
    "Julia currently has [over 1600 packages](http://pkg.julialang.org/pulse.html) registered.  This includes relatively mature and popular pacakges as well as packages that are just getting off the ground.\n",
    "\n",
    "Today we'll look a bit more at the package manager and some popular Julia packages."
   ]
  },
  {
   "cell_type": "markdown",
   "metadata": {},
   "source": [
    "You have already used [Pkg.add()](http://julia.readthedocs.org/en/latest/stdlib/pkg/#Base.Pkg.add) to start using packages such as IJulia and PyPlot.  You can also add a version number to the arguments to use a particular version of a package.  You can use [Pkg.available()](http://julia.readthedocs.org/en/latest/stdlib/pkg/#Base.Pkg.available) to list available versions of a package."
   ]
  },
  {
   "cell_type": "code",
   "execution_count": null,
   "metadata": {},
   "outputs": [],
   "source": [
    "Pkg.available(\"PyPlot\")"
   ]
  },
  {
   "cell_type": "markdown",
   "metadata": {},
   "source": [
    "Recall that you can use Pkg.status() to view all your installed packages.  Required pacakges are those that you specifically added.  Additional packages are those that are required as dependencies of the required packages."
   ]
  },
  {
   "cell_type": "code",
   "execution_count": null,
   "metadata": {},
   "outputs": [],
   "source": [
    "Pkg.status()"
   ]
  },
  {
   "cell_type": "markdown",
   "metadata": {},
   "source": [
    "If you want to see if a particular package is installed, you can use Pkg.installed()"
   ]
  },
  {
   "cell_type": "code",
   "execution_count": null,
   "metadata": {},
   "outputs": [],
   "source": [
    "Pkg.installed(\"IJulia\")"
   ]
  },
  {
   "cell_type": "markdown",
   "metadata": {},
   "source": [
    "Sometimes after updating a package you may need to re-build it."
   ]
  },
  {
   "cell_type": "code",
   "execution_count": null,
   "metadata": {},
   "outputs": [],
   "source": [
    "Pkg.build(\"Plots\")"
   ]
  },
  {
   "cell_type": "markdown",
   "metadata": {},
   "source": [
    "If you're having trouble getting packages to play nicely, you can try using [Pkg.resolve()](http://julia.readthedocs.org/en/latest/stdlib/pkg/#Base.Pkg.resolve)."
   ]
  },
  {
   "cell_type": "code",
   "execution_count": null,
   "metadata": {},
   "outputs": [],
   "source": [
    "Pkg.resolve()"
   ]
  },
  {
   "cell_type": "markdown",
   "metadata": {},
   "source": [
    "If you're debugging a package, Pkg.test() will run tests provided with a package"
   ]
  },
  {
   "cell_type": "code",
   "execution_count": null,
   "metadata": {},
   "outputs": [],
   "source": [
    "Pkg.test(\"PyCall\")"
   ]
  },
  {
   "cell_type": "markdown",
   "metadata": {},
   "source": [
    "If you want to use a package that is not a registered Julia package or if you want to use the current development branch of a package, use Pkg.clone() with a GitHub URL."
   ]
  },
  {
   "cell_type": "code",
   "execution_count": null,
   "metadata": {},
   "outputs": [],
   "source": [
    "Pkg.clone(\"git@github.com:JuliaSparse/Metis.jl.git\")"
   ]
  },
  {
   "cell_type": "code",
   "execution_count": null,
   "metadata": {},
   "outputs": [],
   "source": [
    "Pkg.status()"
   ]
  },
  {
   "cell_type": "code",
   "execution_count": null,
   "metadata": {},
   "outputs": [],
   "source": [
    "Pkg.rm(\"Metis\")"
   ]
  },
  {
   "cell_type": "code",
   "execution_count": null,
   "metadata": {},
   "outputs": [],
   "source": [
    "Pkg.status()"
   ]
  },
  {
   "cell_type": "markdown",
   "metadata": {},
   "source": [
    "# Linear Operators & Iterative Solvers\n",
    "\n",
    "Go to the [iterative solvers notebook](https://github.com/icme/cme257-advanced-julia/blob/master/extras/iterative_solvers.ipynb) on the class website in the extras folder."
   ]
  },
  {
   "cell_type": "markdown",
   "metadata": {},
   "source": [
    "# Data and Plots\n",
    "\n",
    "Go to the [data and plots notebook](https://github.com/icme/cme257-advanced-julia/blob/master/extras/data_and_plots.ipynb) on the class website in the extras folder."
   ]
  },
  {
   "cell_type": "markdown",
   "metadata": {},
   "source": [
    "# Rest of Class\n",
    "\n",
    "Try installing/using any package you think is interesting.  Check out the [package listing](https://pkg.julialang.org/), or clone a package that is in development.\n",
    "\n",
    "# Final Notes\n",
    "\n",
    "* No HW this week\n",
    "* Next week, we'll talk about git version control, and making your own package\n",
    "* HW next week will be to make an ipynb demoing a Julia package of your choice, and creating a pull request to the class Julia repository to share it.  You can start on the ipynb ahead of time if you'd like."
   ]
  },
  {
   "cell_type": "code",
   "execution_count": null,
   "metadata": {},
   "outputs": [],
   "source": []
  }
 ],
 "metadata": {
  "kernelspec": {
   "display_name": "Julia 0.6.2",
   "language": "julia",
   "name": "julia-0.6"
  },
  "language_info": {
   "file_extension": ".jl",
   "mimetype": "application/julia",
   "name": "julia",
   "version": "0.6.2"
  }
 },
 "nbformat": 4,
 "nbformat_minor": 1
}
