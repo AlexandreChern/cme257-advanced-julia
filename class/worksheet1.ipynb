{
 "cells": [
  {
   "cell_type": "code",
   "execution_count": 1,
   "metadata": {
    "collapsed": false
   },
   "outputs": [
    {
     "data": {
      "text/plain": [
       "15"
      ]
     },
     "execution_count": 1,
     "metadata": {},
     "output_type": "execute_result"
    }
   ],
   "source": [
    "# How do you assign a variable?\n",
    "x = 5\n",
    "🔑 = 10 # \\:key:\n",
    "x + 🔑\n",
    "# see http://julia.readthedocs.org/en/latest/manual/unicode-input/ for unicode input"
   ]
  },
  {
   "cell_type": "code",
   "execution_count": 2,
   "metadata": {
    "collapsed": true
   },
   "outputs": [],
   "source": [
    "# How do you make a comment?\n",
    "# like this!"
   ]
  },
  {
   "cell_type": "code",
   "execution_count": 3,
   "metadata": {
    "collapsed": false
   },
   "outputs": [
    {
     "name": "stdout",
     "output_type": "stream",
     "text": [
      "x = 5"
     ]
    }
   ],
   "source": [
    "# If you assign variable x, and then set y=x, what happens to y when you change the value of x?\n",
    "x = 5\n",
    "y = x\n",
    "@show x\n",
    "@show y\n",
    "x = 6\n",
    "@show x\n",
    "@show y\n",
    ";"
   ]
  },
  {
   "cell_type": "code",
   "execution_count": 4,
   "metadata": {
    "collapsed": false
   },
   "outputs": [
    {
     "name": "stdout",
     "output_type": "stream",
     "text": [
      "\n",
      "y = 5\n",
      "x = 6\n",
      "y = 5\n",
      "x = [1 2]"
     ]
    }
   ],
   "source": [
    "x = [1 2]\n",
    "y = x\n",
    "@show x\n",
    "@show y\n",
    "x[1] = 3\n",
    "@show x\n",
    "@show y\n",
    ";"
   ]
  },
  {
   "cell_type": "code",
   "execution_count": 32,
   "metadata": {
    "collapsed": false
   },
   "outputs": [
    {
     "name": "stdout",
     "output_type": "stream",
     "text": [
      "hello!\n"
     ]
    }
   ],
   "source": [
    "# How can you print a statement?\n",
    "println(\"hello!\")"
   ]
  },
  {
   "cell_type": "code",
   "execution_count": 33,
   "metadata": {
    "collapsed": false
   },
   "outputs": [
    {
     "name": "stdout",
     "output_type": "stream",
     "text": [
      "z = 10\n"
     ]
    }
   ],
   "source": [
    "z = 10\n",
    "println(\"z = $z\")\n",
    ";"
   ]
  },
  {
   "cell_type": "code",
   "execution_count": 34,
   "metadata": {
    "collapsed": false
   },
   "outputs": [
    {
     "name": "stdout",
     "output_type": "stream",
     "text": [
      "i = 1\n",
      "i = 2\n",
      "i = 3\n",
      "i = 4\n",
      "i = 5\n",
      "elt = 1\n",
      "elt = 2\n",
      "elt = 10\n"
     ]
    }
   ],
   "source": [
    "# What is the syntax for a for-loop?\n",
    "for i = 1:5\n",
    "    println(\"i = $i\")\n",
    "end\n",
    "\n",
    "arr = [1 2 10]\n",
    "for elt in arr\n",
    "    println(\"elt = $elt\")\n",
    "end"
   ]
  },
  {
   "cell_type": "code",
   "execution_count": 35,
   "metadata": {
    "collapsed": false
   },
   "outputs": [
    {
     "name": "stdout",
     "output_type": "stream",
     "text": [
      "there's only one option left\n"
     ]
    }
   ],
   "source": [
    "# What is the syntax for if-else statements?\n",
    "x = 10\n",
    "\n",
    "if x < 3\n",
    "    println(\"x is small\")\n",
    "elseif x < 6\n",
    "    println(\"x is medium\")\n",
    "else\n",
    "    println(\"there's only one option left\")\n",
    "end"
   ]
  },
  {
   "cell_type": "code",
   "execution_count": 9,
   "metadata": {
    "collapsed": false
   },
   "outputs": [
    {
     "data": {
      "text/plain": [
       "1x4 Array{Float64,2}:\n",
       " 1.0  2.0  3.0  4.0"
      ]
     },
     "execution_count": 9,
     "metadata": {},
     "output_type": "execute_result"
    },
    {
     "name": "stdout",
     "output_type": "stream",
     "text": [
      "\n",
      "y = [1 2]\n",
      "x = [3 2]\n",
      "y = [3 2]\n",
      "hello!\n",
      "z = 10\n",
      "i = 1\n",
      "i = 2\n",
      "i = 3\n",
      "i = 4\n",
      "i = 5\n",
      "elt = 1\n",
      "elt = 2\n",
      "elt = 10\n",
      "there's only one option left\n"
     ]
    }
   ],
   "source": [
    "# How would you load a file? (try class1.csv)\n",
    "data = readdlm(\"class1.csv\", ',')"
   ]
  },
  {
   "cell_type": "code",
   "execution_count": 10,
   "metadata": {
    "collapsed": false
   },
   "outputs": [
    {
     "name": "stdout",
     "output_type": "stream",
     "text": [
      "Hello from class1.jl\n"
     ]
    }
   ],
   "source": [
    "# How would you run a script? (try class1.jl)\n",
    "include(\"class1.jl\")"
   ]
  },
  {
   "cell_type": "code",
   "execution_count": 36,
   "metadata": {
    "collapsed": false
   },
   "outputs": [],
   "source": [
    "# How can you print to a file?\n",
    "f = open(\"hello.txt\",\"w\")\n",
    "write(f,\"Hello world!\")\n",
    "close(f)"
   ]
  },
  {
   "cell_type": "code",
   "execution_count": 12,
   "metadata": {
    "collapsed": true
   },
   "outputs": [],
   "source": [
    "# Where can you find a listing of Julia packages?\n",
    "# http://pkg.julialang.org/"
   ]
  },
  {
   "cell_type": "code",
   "execution_count": 37,
   "metadata": {
    "collapsed": false
   },
   "outputs": [
    {
     "data": {
      "text/plain": [
       "8"
      ]
     },
     "execution_count": 37,
     "metadata": {},
     "output_type": "execute_result"
    }
   ],
   "source": [
    "# How would you write a function that takes inputs x and y and returns x+2*y?\n",
    "function test_fn(x, y)\n",
    "    return x + 2 * y \n",
    "end\n",
    "\n",
    "test_fn(2, 3)"
   ]
  },
  {
   "cell_type": "code",
   "execution_count": 38,
   "metadata": {
    "collapsed": false
   },
   "outputs": [
    {
     "name": "stdout",
     "output_type": "stream",
     "text": [
      "arr1 = [1,2,3]\n",
      "arr2 = [1,2,3]\n",
      "arr1 == arr2 = true\n"
     ]
    }
   ],
   "source": [
    "# How would you create an array? What are some operations you may wish to perform?\n",
    "arr1 = [1,2,3]\n",
    "arr2 = [1:3;]\n",
    "@show arr1\n",
    "@show arr2\n",
    "@show (arr1 == arr2)\n",
    ";"
   ]
  },
  {
   "cell_type": "code",
   "execution_count": 39,
   "metadata": {
    "collapsed": false
   },
   "outputs": [
    {
     "data": {
      "text/plain": [
       "10x10 Array{Float64,2}:\n",
       " 0.639597  0.245774  0.962411  0.068949  …  0.0137243  0.130275   0.701259\n",
       " 0.794535  0.305338  0.734071  0.529386     0.987089   0.187579   0.191122\n",
       " 0.163843  0.217589  0.289574  0.169402     0.912102   0.253791   0.912009\n",
       " 0.490859  0.446909  0.184702  0.179591     0.731951   0.624792   0.741622\n",
       " 0.337039  0.117442  0.193794  0.41508      0.981926   0.0201245  0.29407 \n",
       " 0.646092  0.441985  0.36487   0.631645  …  0.859416   0.116965   0.604945\n",
       " 0.265992  0.177506  0.841061  0.989589     0.832013   0.678386   0.653145\n",
       " 0.577132  0.856061  0.802941  0.136243     0.920552   0.719628   0.77578 \n",
       " 0.839965  0.507794  0.333246  0.84341      0.442992   0.302589   0.391668\n",
       " 0.633477  0.303612  0.569427  0.306703     0.0984821  0.520871   0.355633"
      ]
     },
     "execution_count": 39,
     "metadata": {},
     "output_type": "execute_result"
    }
   ],
   "source": [
    "# How can you create a 10x10 random matrix?\n",
    "rand_mat = rand(10,10)"
   ]
  },
  {
   "cell_type": "code",
   "execution_count": 40,
   "metadata": {
    "collapsed": false
   },
   "outputs": [
    {
     "name": "stdout",
     "output_type": "stream",
     "text": [
      "  "
     ]
    },
    {
     "data": {
      "text/plain": [
       "100x1 Array{Float64,2}:\n",
       "  2.90997 \n",
       " -0.115486\n",
       "  3.04759 \n",
       "  0.785679\n",
       "  0.994161\n",
       "  0.777861\n",
       "  1.20155 \n",
       "  3.70455 \n",
       " -0.515972\n",
       " -3.41807 \n",
       "  0.456244\n",
       " -0.680377\n",
       "  2.80394 \n",
       "  ⋮       \n",
       " -1.39291 \n",
       "  1.14281 \n",
       " -0.609678\n",
       " -1.01674 \n",
       "  0.429423\n",
       "  0.916695\n",
       " -1.99509 \n",
       " -0.522612\n",
       "  3.66979 \n",
       " -1.18978 \n",
       " -0.811422\n",
       " -1.86598 "
      ]
     },
     "execution_count": 40,
     "metadata": {},
     "output_type": "execute_result"
    },
    {
     "name": "stdout",
     "output_type": "stream",
     "text": [
      "0.061806 seconds (17 allocations: 159.422 KB)\n"
     ]
    }
   ],
   "source": [
    "# How can you time an operation?\n",
    "@time randn(100,100)\\randn(100,1)\n",
    "# try running this cell twice - what's going on?"
   ]
  },
  {
   "cell_type": "code",
   "execution_count": 41,
   "metadata": {
    "collapsed": false
   },
   "outputs": [],
   "source": [
    "# What is a plotting package you can use in Julia?\n",
    "# PyPlot\n",
    "using PyPlot"
   ]
  },
  {
   "cell_type": "code",
   "execution_count": 42,
   "metadata": {
    "collapsed": false
   },
   "outputs": [
    {
     "data": {
      "image/png": "[encoded data removed]",
      "text/plain": [
       "PyPlot.Figure(PyObject <matplotlib.figure.Figure object at 0x7f9663da4ad0>)"
      ]
     },
     "metadata": {},
     "output_type": "display_data"
    },
    {
     "data": {
      "text/plain": [
       "1-element Array{Any,1}:\n",
       " PyObject <matplotlib.lines.Line2D object at 0x7f9663c6c350>"
      ]
     },
     "execution_count": 42,
     "metadata": {},
     "output_type": "execute_result"
    }
   ],
   "source": [
    "# Plot y=x^2 for x in [0,10].\n",
    "x = [1:10;]\n",
    "y = x.^2\n",
    "plot(x, y)\n"
   ]
  },
  {
   "cell_type": "code",
   "execution_count": 43,
   "metadata": {
    "collapsed": false
   },
   "outputs": [
    {
     "name": "stdout",
     "output_type": "stream",
     "text": [
      "typeof(5) = Int64\n",
      "typeof(6.3) = Float64\n",
      "typeof(π) = Irrational{:π}\n",
      "typeof(test_fn) = Function\n",
      "super(Int64) = Signed\n"
     ]
    }
   ],
   "source": [
    "# How can you find the type of something?\n",
    "@show typeof(5)\n",
    "@show typeof(6.3)\n",
    "@show typeof(π)\n",
    "@show typeof(test_fn)\n",
    "@show super(Int64)\n",
    ";"
   ]
  },
  {
   "cell_type": "code",
   "execution_count": 44,
   "metadata": {
    "collapsed": false
   },
   "outputs": [
    {
     "name": "stdout",
     "output_type": "stream",
     "text": [
      "\t.text\n",
      "Filename: In[37]\n",
      "Source line: 3\n",
      "\tpushq\t%rbp\n",
      "\tmovq\t%rsp, %rbp\n",
      "Source line: 3\n",
      "\tleaq\t(%rdi,%rsi,2), %rax\n",
      "\tpopq\t%rbp\n",
      "\tret\n"
     ]
    }
   ],
   "source": [
    "code_native(test_fn, (Int64, Int64))"
   ]
  },
  {
   "cell_type": "code",
   "execution_count": 45,
   "metadata": {
    "collapsed": false
   },
   "outputs": [
    {
     "data": {
      "text/plain": [
       "-3 + 4im"
      ]
     },
     "execution_count": 45,
     "metadata": {},
     "output_type": "execute_result"
    }
   ],
   "source": [
    "# How can you represent imaginary numbers?\n",
    "c = 1 + 2im\n",
    "d = c * c"
   ]
  },
  {
   "cell_type": "code",
   "execution_count": 46,
   "metadata": {
    "collapsed": false
   },
   "outputs": [
    {
     "data": {
      "text/plain": [
       "21//40"
      ]
     },
     "execution_count": 46,
     "metadata": {},
     "output_type": "execute_result"
    }
   ],
   "source": [
    "# How can you represent fractions?\n",
    "a = 3//5\n",
    "b = 7//8\n",
    "a * b"
   ]
  },
  {
   "cell_type": "code",
   "execution_count": 47,
   "metadata": {
    "collapsed": false
   },
   "outputs": [
    {
     "name": "stdout",
     "output_type": "stream",
     "text": [
      "(x == y) == true = true"
     ]
    },
    {
     "data": {
      "text/plain": [
       "false"
      ]
     },
     "execution_count": 47,
     "metadata": {},
     "output_type": "execute_result"
    },
    {
     "name": "stdout",
     "output_type": "stream",
     "text": [
      "\n",
      "(x == y) == false = false\n"
     ]
    }
   ],
   "source": [
    "# How can you use explicit boolean \"True\" and \"False\" values?\n",
    "x = 1\n",
    "y = 1\n",
    "@show (x == y) == true\n",
    "@show (x == y) == false"
   ]
  },
  {
   "cell_type": "code",
   "execution_count": 49,
   "metadata": {
    "collapsed": false
   },
   "outputs": [
    {
     "name": "stdout",
     "output_type": "stream",
     "text": [
      "arr = [4,2,3]\n",
      "tup = (1,2,3)\n"
     ]
    }
   ],
   "source": [
    "# What's the difference between an array and tuple?\n",
    "# tuples are immutable (you can't change the entries)\n",
    "arr = [1, 2, 3]\n",
    "tup = (1, 2, 3)\n",
    "arr[1] = 4\n",
    "#tup[1] = 4\n",
    "@show arr\n",
    "@show tup\n",
    ";"
   ]
  },
  {
   "cell_type": "code",
   "execution_count": 50,
   "metadata": {
    "collapsed": false
   },
   "outputs": [
    {
     "data": {
      "text/plain": [
       "\"CME 257\""
      ]
     },
     "execution_count": 50,
     "metadata": {},
     "output_type": "execute_result"
    }
   ],
   "source": [
    "# How can you create a dict (i.e. dictionary, associatice array, map)?\n",
    "d = Dict(\"Julia\" => \"CME 257\", \"R\" => \"CME 195\", \"Python\" => \"CME 193\", \"MATLAB\" => \"CME 192\")\n",
    "d[\"Julia\"]"
   ]
  },
  {
   "cell_type": "code",
   "execution_count": 26,
   "metadata": {
    "collapsed": false
   },
   "outputs": [
    {
     "data": {
      "text/plain": [
       "Set(ASCIIString[\"MATLAB\",\"Julia\",\"C++\"])"
      ]
     },
     "execution_count": 26,
     "metadata": {},
     "output_type": "execute_result"
    }
   ],
   "source": [
    "# How can you create a set?\n",
    "s = Set([\"Julia\", \"C++\", \"MATLAB\", \"Julia\"])"
   ]
  },
  {
   "cell_type": "code",
   "execution_count": 27,
   "metadata": {
    "collapsed": false
   },
   "outputs": [
    {
     "name": "stdout",
     "output_type": "stream",
     "text": [
      "x + y = 2"
     ]
    }
   ],
   "source": [
    "# What is an example of a macro?\n",
    "@show x + y\n",
    ";"
   ]
  },
  {
   "cell_type": "code",
   "execution_count": 51,
   "metadata": {
    "collapsed": false
   },
   "outputs": [
    {
     "name": "stdout",
     "output_type": "stream",
     "text": [
      "Julia Version 0.5.0-dev+346\n",
      "Commit 699dd2d (2015-09-24 03:30 UTC)\n",
      "Platform Info:\n",
      "  System: Linux (x86_64-linux-gnu)\n",
      "  CPU: Intel(R) Core(TM) i5-3230M CPU @ 2.60GHz\n",
      "  WORD_SIZE: 64\n",
      "  BLAS: libopenblas (USE64BITINT DYNAMIC_ARCH NO_AFFINITY Sandybridge)\n",
      "  LAPACK: libopenblas\n",
      "  LIBM: libopenlibm\n",
      "  LLVM: libLLVM-3.3\n"
     ]
    }
   ],
   "source": [
    "# How can you tell which version of Julia you are running?\n",
    "versioninfo()\n",
    "# versioninfo(true)"
   ]
  },
  {
   "cell_type": "code",
   "execution_count": 29,
   "metadata": {
    "collapsed": true
   },
   "outputs": [],
   "source": [
    "# What are some similarities and differences between Julia and other languages that you know?"
   ]
  },
  {
   "cell_type": "code",
   "execution_count": 52,
   "metadata": {
    "collapsed": false
   },
   "outputs": [
    {
     "data": {
      "text/plain": [
       "2-element Array{Any,1}:\n",
       "  \"hello\"\n",
       " 1       "
      ]
     },
     "execution_count": 52,
     "metadata": {},
     "output_type": "execute_result"
    }
   ],
   "source": [
    "arr = (Any)[0, 1]\n",
    "arr[1] = \"hello\"\n",
    "arr"
   ]
  }
 ],
 "metadata": {
  "kernelspec": {
   "display_name": "Julia 0.5.0-dev",
   "language": "julia",
   "name": "julia-0.5"
  },
  "language_info": {
   "file_extension": ".jl",
   "mimetype": "application/julia",
   "name": "julia",
   "version": "0.5.0"
  }
 },
 "nbformat": 4,
 "nbformat_minor": 0
}
