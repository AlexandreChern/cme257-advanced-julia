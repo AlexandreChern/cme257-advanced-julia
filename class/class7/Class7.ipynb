{
 "cells": [
  {
   "cell_type": "markdown",
   "metadata": {},
   "source": [
    "# Class 7 - Performance\n",
    "\n",
    "Today we'll talk a bit about performance, in particular how to write Julia code with performance in mind, and how to measure performance.  You can find a lot of useful material in Julia's documentation: [FAQ](http://docs.julialang.org/en/release-0.4/manual/faq/), [performance tips](http://docs.julialang.org/en/release-0.4/manual/performance-tips/), [profiling](http://docs.julialang.org/en/release-0.4/manual/profile/).\n",
    "\n",
    "A few things that we'll pay attention to today are speed and memory allocation.  A few general heuristics are:\n",
    "* Preallocation is good (don't grow arrays dynamically if avoidable)\n",
    "* Type annotations are good (tell the compiler which types you want to instantiate)\n",
    "* Avoid changing type of variables\n",
    "* Write multiple function methods instead of multiple code paths in a function\n",
    "* For-loops over vectorized notation (see [Victor's notebook](../../packages/devectorize.ipynb))\n",
    "\n",
    "You've probably already used the `@time` macro, which is a very easy way to get an idea of speed and memory allocation"
   ]
  },
  {
   "cell_type": "code",
   "execution_count": 7,
   "metadata": {
    "collapsed": false
   },
   "outputs": [],
   "source": [
    "function bad_innerprod(x, y)\n",
    "    @assert length(x) == length(y)\n",
    "    ans = 0\n",
    "    for i = 1:length(x)\n",
    "        ans += x[i] * y[i]\n",
    "    end\n",
    "    return ans\n",
    "end\n",
    ";"
   ]
  },
  {
   "cell_type": "code",
   "execution_count": 8,
   "metadata": {
    "collapsed": true
   },
   "outputs": [],
   "source": [
    "n = 1000\n",
    "x = randn(n)\n",
    "y = randn(n)\n",
    ";"
   ]
  },
  {
   "cell_type": "code",
   "execution_count": 11,
   "metadata": {
    "collapsed": false
   },
   "outputs": [
    {
     "name": "stdout",
     "output_type": "stream",
     "text": [
      "  "
     ]
    },
    {
     "data": {
      "text/plain": [
       "1.6477951308449887"
      ]
     },
     "execution_count": 11,
     "metadata": {},
     "output_type": "execute_result"
    },
    {
     "name": "stdout",
     "output_type": "stream",
     "text": [
      "0.000062 seconds (2.00 k allocations: 31.406 KB)\n"
     ]
    }
   ],
   "source": [
    "@time bad_innerprod(x, y)"
   ]
  },
  {
   "cell_type": "markdown",
   "metadata": {},
   "source": [
    "As you can see, the `@time` macro will tell you both time information and memory allocation information.  The function above is allocating several kilobytes of memory just to do some simple artihmetic.  This may not seem like a big deal, but imagine if this function was a very small component of a much larger program and was called thousands of times.  Here's a better example"
   ]
  },
  {
   "cell_type": "code",
   "execution_count": 12,
   "metadata": {
    "collapsed": true
   },
   "outputs": [],
   "source": [
    "function better_innerprod0{T}(x::Array{T}, y::Array{T})\n",
    "    @assert length(x) == length(y)\n",
    "    ans = zero(T)\n",
    "    for i = 1:length(x)\n",
    "        ans += x[i] * y[i]\n",
    "    end\n",
    "    return ans\n",
    "end\n",
    ";"
   ]
  },
  {
   "cell_type": "code",
   "execution_count": 15,
   "metadata": {
    "collapsed": false
   },
   "outputs": [
    {
     "name": "stdout",
     "output_type": "stream",
     "text": [
      "  "
     ]
    },
    {
     "data": {
      "text/plain": [
       "1.6477951308449887"
      ]
     },
     "execution_count": 15,
     "metadata": {},
     "output_type": "execute_result"
    },
    {
     "name": "stdout",
     "output_type": "stream",
     "text": [
      "0.000005 seconds (5 allocations: 176 bytes)\n"
     ]
    }
   ],
   "source": [
    "@time better_innerprod0(x,y)"
   ]
  },
  {
   "cell_type": "markdown",
   "metadata": {},
   "source": [
    "Essentially just by providing type information, we were able to keep the compiler from allocating unneccssary amounts of memory."
   ]
  },
  {
   "cell_type": "code",
   "execution_count": 17,
   "metadata": {
    "collapsed": false
   },
   "outputs": [],
   "source": [
    "function better_innerprod1{T}(x::Array{T}, y::Array{T})\n",
    "    @assert length(x) == length(y)\n",
    "    ans = zero(T)\n",
    "    for i = 1:length(x)\n",
    "        @inbounds ans += x[i] * y[i]\n",
    "    end\n",
    "    return ans\n",
    "end\n",
    ";"
   ]
  },
  {
   "cell_type": "code",
   "execution_count": 20,
   "metadata": {
    "collapsed": false
   },
   "outputs": [
    {
     "name": "stdout",
     "output_type": "stream",
     "text": [
      "  "
     ]
    },
    {
     "data": {
      "text/plain": [
       "1.6477951308449887"
      ]
     },
     "execution_count": 20,
     "metadata": {},
     "output_type": "execute_result"
    },
    {
     "name": "stdout",
     "output_type": "stream",
     "text": [
      "0.000004 seconds (5 allocations: 176 bytes)\n"
     ]
    }
   ],
   "source": [
    "@time better_innerprod1(x, y)"
   ]
  },
  {
   "cell_type": "markdown",
   "metadata": {
    "collapsed": false
   },
   "source": [
    "The `@inbounds` macro is saying that the program doesn't need to check that we may try to access a memory location that isn't part of the array.  The complier may be able to infer this in this particular example, but if you have more complicated loops, the macro may give you a noticeable speedup.\n",
    "\n",
    "Now, we separate the inner loop from bounds checking.  If you have more complex logic, breaking your functions into smaller components can speed up evaluation."
   ]
  },
  {
   "cell_type": "code",
   "execution_count": 24,
   "metadata": {
    "collapsed": false
   },
   "outputs": [],
   "source": [
    "function fast_innerprod{T}(x::Array{T}, y::Array{T})\n",
    "    ans::T = 0\n",
    "    for i = 1:length(x)\n",
    "        @inbounds ans += x[i] * y[i]\n",
    "    end\n",
    "    ans\n",
    "end\n",
    "\n",
    "function better_innerprod2{T}(x::Array{T}, y::Array{T})\n",
    "    @assert length(x) == length(y)\n",
    "    fast_innerprod(x, y)\n",
    "end\n",
    ";"
   ]
  },
  {
   "cell_type": "code",
   "execution_count": 28,
   "metadata": {
    "collapsed": false
   },
   "outputs": [
    {
     "name": "stdout",
     "output_type": "stream",
     "text": [
      "  "
     ]
    },
    {
     "data": {
      "text/plain": [
       "1.6477951308449887"
      ]
     },
     "execution_count": 28,
     "metadata": {},
     "output_type": "execute_result"
    },
    {
     "name": "stdout",
     "output_type": "stream",
     "text": [
      "0.000006 seconds (5 allocations: 176 bytes)\n",
      "  0.000004 seconds (5 allocations: 176 bytes)\n"
     ]
    }
   ],
   "source": [
    "@time fast_innerprod(x, y)\n",
    "@time better_innerprod2(x, y)"
   ]
  },
  {
   "cell_type": "markdown",
   "metadata": {},
   "source": [
    "The `@simd` macro can be used in loops that can be vectorized.  This means no `break`s or `continue`s, and that the loop should not depend on previous loop evaluations."
   ]
  },
  {
   "cell_type": "code",
   "execution_count": 35,
   "metadata": {
    "collapsed": true
   },
   "outputs": [],
   "source": [
    "function fast_innerprod2{T}(x::Array{T}, y::Array{T})\n",
    "    ans::T = 0\n",
    "    @simd for i = 1:length(x)\n",
    "        @inbounds ans += x[i] * y[i]\n",
    "    end\n",
    "    ans\n",
    "end\n",
    "\n",
    "function better_innerprod3{T}(x::Array{T}, y::Array{T})\n",
    "    @assert length(x) == length(y)\n",
    "    fast_innerprod2(x, y)\n",
    "end\n",
    ";"
   ]
  },
  {
   "cell_type": "code",
   "execution_count": 37,
   "metadata": {
    "collapsed": false
   },
   "outputs": [
    {
     "name": "stdout",
     "output_type": "stream",
     "text": [
      "  "
     ]
    },
    {
     "data": {
      "text/plain": [
       "1.647795130845014"
      ]
     },
     "execution_count": 37,
     "metadata": {},
     "output_type": "execute_result"
    },
    {
     "name": "stdout",
     "output_type": "stream",
     "text": [
      "0.000005 seconds (5 allocations: 176 bytes)\n",
      "  0.000002 seconds (5 allocations: 176 bytes)\n"
     ]
    }
   ],
   "source": [
    "@time fast_innerprod2(x, y)\n",
    "@time better_innerprod3(x, y)"
   ]
  },
  {
   "cell_type": "markdown",
   "metadata": {},
   "source": [
    "You can also use the equivalent of the `-ffast-math` compiler optimization flag with `@fastmath`.  Note that this may change the accuracy of your results, or give you an answer that is entirely wrong if you aren't careful."
   ]
  },
  {
   "cell_type": "code",
   "execution_count": 55,
   "metadata": {
    "collapsed": true
   },
   "outputs": [],
   "source": [
    "function fast_innerprod3{T}(x::Array{T}, y::Array{T})\n",
    "    ans::T = 0\n",
    "    @fastmath @simd for i = 1:length(x)\n",
    "        @inbounds ans += x[i] * y[i]\n",
    "    end\n",
    "    ans\n",
    "end\n",
    "\n",
    "function better_innerprod4{T}(x::Array{T}, y::Array{T})\n",
    "    @assert length(x) == length(y)\n",
    "    fast_innerprod3(x, y)\n",
    "end\n",
    ";"
   ]
  },
  {
   "cell_type": "code",
   "execution_count": 57,
   "metadata": {
    "collapsed": false
   },
   "outputs": [
    {
     "name": "stdout",
     "output_type": "stream",
     "text": [
      "  "
     ]
    },
    {
     "data": {
      "text/plain": [
       "1.647795130845014"
      ]
     },
     "execution_count": 57,
     "metadata": {},
     "output_type": "execute_result"
    },
    {
     "name": "stdout",
     "output_type": "stream",
     "text": [
      "0.000007 seconds (5 allocations: 176 bytes)\n",
      "  0.000002 seconds (5 allocations: 176 bytes)\n"
     ]
    }
   ],
   "source": [
    "@time fast_innerprod3(x, y)\n",
    "@time better_innerprod4(x, y)"
   ]
  },
  {
   "cell_type": "markdown",
   "metadata": {},
   "source": [
    "Here's how you would compute an inner product with Julia's built in dot: (note that this is calling BLAS)."
   ]
  },
  {
   "cell_type": "code",
   "execution_count": 39,
   "metadata": {
    "collapsed": false
   },
   "outputs": [
    {
     "name": "stdout",
     "output_type": "stream",
     "text": [
      "  "
     ]
    },
    {
     "data": {
      "text/plain": [
       "1.647795130845033"
      ]
     },
     "execution_count": 39,
     "metadata": {},
     "output_type": "execute_result"
    },
    {
     "name": "stdout",
     "output_type": "stream",
     "text": [
      "0.000005 seconds (5 allocations: 176 bytes)\n"
     ]
    }
   ],
   "source": [
    "@time dot(x,y)"
   ]
  },
  {
   "cell_type": "markdown",
   "metadata": {},
   "source": [
    "Now, let's compare the efficiency of each implementation"
   ]
  },
  {
   "cell_type": "code",
   "execution_count": 48,
   "metadata": {
    "collapsed": false
   },
   "outputs": [
    {
     "data": {
      "text/plain": [
       "gflop_innerprod (generic function with 1 method)"
      ]
     },
     "execution_count": 48,
     "metadata": {},
     "output_type": "execute_result"
    }
   ],
   "source": [
    "function gflop_innerprod( n, reps )\n",
    "    x = randn(n)\n",
    "    y = randn(n)\n",
    "    s = zero(Float64)\n",
    "    time = @elapsed for j in 1:reps\n",
    "        s+=bad_innerprod(x,y)\n",
    "    end\n",
    "    println(\"GFlop (bad_innerprod)      = \",2.0*n*reps/time*1E-9)\n",
    "    time = @elapsed for j in 1:reps\n",
    "        s+=better_innerprod0(x,y)\n",
    "    end\n",
    "    println(\"GFlop (better_innerprod0)  = \",2.0*n*reps/time*1E-9)\n",
    "    time = @elapsed for j in 1:reps\n",
    "        s+=better_innerprod1(x,y)\n",
    "    end\n",
    "    println(\"GFlop (better_innerprod1)  = \",2.0*n*reps/time*1E-9)\n",
    "    time = @elapsed for j in 1:reps\n",
    "        s+=better_innerprod2(x,y)\n",
    "    end\n",
    "    println(\"GFlop (better_innerprod2)  = \",2.0*n*reps/time*1E-9)\n",
    "    time = @elapsed for j in 1:reps\n",
    "        s+=better_innerprod3(x,y)\n",
    "    end\n",
    "    println(\"GFlop (better_innerprod3)  = \",2.0*n*reps/time*1E-9)\n",
    "    time = @elapsed for j in 1:reps\n",
    "        s+=better_innerprod4(x,y)\n",
    "    end\n",
    "    println(\"GFlop (better_innerprod4)  = \",2.0*n*reps/time*1E-9)\n",
    "    time = @elapsed for j in 1:reps\n",
    "        s+=dot(x,y)\n",
    "    end\n",
    "    println(\"GFlop (dot)                = \",2.0*n*reps/time*1E-9)\n",
    "end"
   ]
  },
  {
   "cell_type": "code",
   "execution_count": 60,
   "metadata": {
    "collapsed": false
   },
   "outputs": [
    {
     "name": "stdout",
     "output_type": "stream",
     "text": [
      "GFlop (bad_innerprod)      = 0.05329956628144184\n",
      "GFlop (better_innerprod0)  = 0.8921788479562192\n",
      "GFlop (better_innerprod1)  = 1.3833305897276638\n",
      "GFlop (better_innerprod2)  = 1.2420130796397417\n",
      "GFlop (better_innerprod3)  = 2.6077302250927534\n",
      "GFlop (better_innerprod4)  = 3.2919968265150596\n",
      "GFlop (dot)                = 5.461556106565883\n",
      "\n",
      "GFlop (bad_innerprod)      = 0.06489902279918897\n",
      "GFlop (better_innerprod0)  = 1.4057777465382721\n",
      "GFlop (better_innerprod1)  = 2.300171190240834\n",
      "GFlop (better_innerprod2)  = 2.23589596823239\n",
      "GFlop (better_innerprod3)  = 4.879066244302165\n",
      "GFlop (better_innerprod4)  = 4.922561947365507\n",
      "GFlop (dot)                = 6.402684005134953\n"
     ]
    }
   ],
   "source": [
    "gflop_innerprod(2000, 1000)\n",
    "println(\"\")\n",
    "gflop_innerprod(2000, 1000)"
   ]
  },
  {
   "cell_type": "markdown",
   "metadata": {},
   "source": [
    "# Exercise 1\n",
    "\n",
    "* Switch the $+$ and $*$ operations in the definition of inner product, and write a function that will compute this modified function for you.  Make one version that is relatively inneficient and one version that is as fast as you can make it.\n",
    "* Write a standard matrix-vector multiplication function on two arrays.  Can you get close to Julia's default implementation's performance?\n",
    "* (if you have time) If you make the binary operations in the defintion of matrix-vector multiplication parameters of your function can you still get reasonable performance?"
   ]
  },
  {
   "cell_type": "code",
   "execution_count": 84,
   "metadata": {
    "collapsed": false
   },
   "outputs": [],
   "source": []
  },
  {
   "cell_type": "code",
   "execution_count": 85,
   "metadata": {
    "collapsed": false
   },
   "outputs": [
    {
     "data": {
      "text/plain": [
       "bad_bool (generic function with 3 methods)"
      ]
     },
     "execution_count": 85,
     "metadata": {},
     "output_type": "execute_result"
    }
   ],
   "source": [
    "function bad_bool(x::Array{Bool},y::Array{Bool}, z::Array{Bool})\n",
    "    ans::Bool = true\n",
    "    for i = 1:length(x)\n",
    "        ans = ans && (x[i] || y[i] || z[i]) \n",
    "    end\n",
    "    return ans\n",
    "end"
   ]
  },
  {
   "cell_type": "code",
   "execution_count": 88,
   "metadata": {
    "collapsed": false
   },
   "outputs": [
    {
     "name": "stdout",
     "output_type": "stream",
     "text": [
      "  "
     ]
    },
    {
     "data": {
      "text/plain": [
       "false"
      ]
     },
     "execution_count": 88,
     "metadata": {},
     "output_type": "execute_result"
    },
    {
     "name": "stdout",
     "output_type": "stream",
     "text": [
      "0.000005 seconds (4 allocations: 160 bytes)\n"
     ]
    }
   ],
   "source": [
    "@time bad_bool(x,y,z)"
   ]
  },
  {
   "cell_type": "code",
   "execution_count": 89,
   "metadata": {
    "collapsed": false
   },
   "outputs": [
    {
     "data": {
      "text/plain": [
       "good_bool (generic function with 2 methods)"
      ]
     },
     "execution_count": 89,
     "metadata": {},
     "output_type": "execute_result"
    }
   ],
   "source": [
    "function good_bool(x::Array{Bool}, y::Array{Bool}, z::Array{Bool})\n",
    "    ans::Bool = true\n",
    "    @simd for i = 1:length(x)\n",
    "        @inbounds ans = ans && (x[i] || y[i] || z[i]) \n",
    "    end\n",
    "    return ans\n",
    "end"
   ]
  },
  {
   "cell_type": "code",
   "execution_count": 93,
   "metadata": {
    "collapsed": false
   },
   "outputs": [
    {
     "name": "stdout",
     "output_type": "stream",
     "text": [
      "  "
     ]
    },
    {
     "data": {
      "text/plain": [
       "false"
      ]
     },
     "execution_count": 93,
     "metadata": {},
     "output_type": "execute_result"
    },
    {
     "name": "stdout",
     "output_type": "stream",
     "text": [
      "0.000004 seconds (4 allocations: 160 bytes)\n"
     ]
    }
   ],
   "source": [
    "@time good_bool(x,y,z)"
   ]
  },
  {
   "cell_type": "code",
   "execution_count": 73,
   "metadata": {
    "collapsed": false
   },
   "outputs": [
    {
     "name": "stdout",
     "output_type": "stream",
     "text": [
      "  0.006194 seconds (1 allocation: 3.984 KB)\n",
      "  0.003146 seconds (1 allocation: 3.984 KB)\n",
      "  0.006999 seconds (1 allocation: 3.984 KB)\n",
      "  0.003272 seconds (1 allocation: 3.984 KB)\n",
      "  0.006223 seconds (1 allocation: 3.984 KB)\n",
      "  0.003088 seconds (1 allocation: 3.984 KB)\n"
     ]
    }
   ],
   "source": [
    "function timestep{T}( b::Vector{T}, a::Vector{T}, Δt::T )\n",
    "    @assert length(a)==length(b)\n",
    "    n = length(b)\n",
    "    b[1] = 1                            # Boundary condition\n",
    "    for i=2:n-1\n",
    "        b[i] = a[i] + (a[i-1] - T(2)*a[i] + a[i+1]) * Δt\n",
    "    end\n",
    "    b[n] = 0                            # Boundary condition\n",
    "end\n",
    "\n",
    "function heatflow{T}( a::Vector{T}, nstep::Integer )\n",
    "    b = similar(a)\n",
    "    for t=1:div(nstep,2)                # Assume nstep is even\n",
    "        timestep(b,a,T(0.1))\n",
    "        timestep(a,b,T(0.1))\n",
    "    end\n",
    "end\n",
    "\n",
    "heatflow(zeros(Float32,10),2)           # Force compilation\n",
    "for trial=1:6\n",
    "    a = zeros(Float32,1000)\n",
    "    set_zero_subnormals(iseven(trial))  # Odd trials use strict IEEE arithmetic\n",
    "    @time heatflow(a,1000)\n",
    "end"
   ]
  },
  {
   "cell_type": "code",
   "execution_count": null,
   "metadata": {
    "collapsed": true
   },
   "outputs": [],
   "source": []
  }
 ],
 "metadata": {
  "kernelspec": {
   "display_name": "Julia 0.4.0",
   "language": "julia",
   "name": "julia-0.4"
  },
  "language_info": {
   "file_extension": ".jl",
   "mimetype": "application/julia",
   "name": "julia",
   "version": "0.4.0"
  }
 },
 "nbformat": 4,
 "nbformat_minor": 0
}
