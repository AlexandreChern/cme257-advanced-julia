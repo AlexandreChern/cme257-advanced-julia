{
 "cells": [
  {
   "cell_type": "markdown",
   "metadata": {},
   "source": [
    "# Worksheet 1: Types\n",
    "\n",
    "1. What happens if you try to instantiate a cme257int with a float?  Why did this happen?\n",
    "2. Create a type called \"cme257OrderedPair\" with the following properties:\n",
    "  1. It is a child of cme257abstract\n",
    "  2. It has two fields: \"a\" and \"b\"\n",
    "  3. The fields \"a\" and \"b\" are the same parameterized type\n",
    "3. Create an immutable type called \"Quaternion\" with the following properties:\n",
    "  1. It is a child of Any\n",
    "  2. I has four fields: \"r\", \"i\", \"j\", and \"k\"\n",
    "  3. The fields are all the same parameterized type."
   ]
  },
  {
   "cell_type": "code",
   "execution_count": 1,
   "metadata": {
    "collapsed": true
   },
   "outputs": [],
   "source": [
    "abstract cme257abstract"
   ]
  },
  {
   "cell_type": "code",
   "execution_count": 2,
   "metadata": {
    "collapsed": true
   },
   "outputs": [],
   "source": [
    "type cme257OrderedPair{T} <: cme257abstract\n",
    "    a::T\n",
    "    b::T\n",
    "end"
   ]
  },
  {
   "cell_type": "code",
   "execution_count": 3,
   "metadata": {
    "collapsed": true
   },
   "outputs": [],
   "source": [
    "immutable Quaternion{T}\n",
    "    r::T\n",
    "    i::T\n",
    "    j::T\n",
    "    k::T\n",
    "end"
   ]
  },
  {
   "cell_type": "code",
   "execution_count": 4,
   "metadata": {
    "collapsed": false
   },
   "outputs": [
    {
     "data": {
      "text/plain": [
       "3"
      ]
     },
     "execution_count": 4,
     "metadata": {},
     "output_type": "execute_result"
    }
   ],
   "source": [
    "op1 = cme257OrderedPair(3,4)\n",
    "op1.a"
   ]
  },
  {
   "cell_type": "code",
   "execution_count": 5,
   "metadata": {
    "collapsed": false
   },
   "outputs": [
    {
     "data": {
      "text/plain": [
       "4"
      ]
     },
     "execution_count": 5,
     "metadata": {},
     "output_type": "execute_result"
    }
   ],
   "source": [
    "quat1 = Quaternion(1,2,3,4)\n",
    "quat1.k"
   ]
  },
  {
   "cell_type": "markdown",
   "metadata": {},
   "source": [
    "# Worksheet 2: Functions\n",
    "\n",
    "1. What happens if instead of parameterizing a function like\n",
    "```julia\n",
    "function yell_my_type{T <: Number}(x::T)\n",
    "  ...\n",
    "end\n",
    "```\n",
    "We tried to do the same thing with:\n",
    "```julia\n",
    "function yell_my_type(x <: Number)\n",
    "  ...\n",
    "end\n",
    "```\n",
    "What's going on?\n",
    "\n",
    "2. Overload the addition and multiplication operators to do element-wise addition and multiplication on cme257OrderedPair.\n",
    "\n",
    "3. (If you have time) - Overload the addition and multiplication operators for the Quaternion type.  You can read about Quaternions [here](https://en.wikipedia.org/wiki/Quaternion)."
   ]
  },
  {
   "cell_type": "code",
   "execution_count": 6,
   "metadata": {
    "collapsed": false
   },
   "outputs": [
    {
     "ename": "LoadError",
     "evalue": "LoadError: syntax: \"x<:Number\" is not a valid function argument name\nwhile loading In[6], in expression starting on line 4",
     "output_type": "error",
     "traceback": [
      "LoadError: syntax: \"x<:Number\" is not a valid function argument name\nwhile loading In[6], in expression starting on line 4",
      ""
     ]
    }
   ],
   "source": [
    "function yell_my_type(x <: Number)\n",
    "    println(\"I'M A NUMBER!\")\n",
    "end\n",
    "yell_my_type(3)\n",
    "# you need to use the type annotation \"::\" when passing variables.\n",
    "# The \"<:\" operator in a parameterized type declaration will know how to instantiate the function"
   ]
  },
  {
   "cell_type": "code",
   "execution_count": 7,
   "metadata": {
    "collapsed": false
   },
   "outputs": [
    {
     "name": "stdout",
     "output_type": "stream",
     "text": [
      "I'M A NUMBER!\n"
     ]
    }
   ],
   "source": [
    "function yell_my_type(x::Number)\n",
    "    println(\"I'M A NUMBER!\")\n",
    "end\n",
    "yell_my_type(3)"
   ]
  },
  {
   "cell_type": "markdown",
   "metadata": {},
   "source": [
    "These examples show why having a type heirarchy can be powerful.  Let's say that you have a collection of objects that should all be able to do the same things, but may work differently internally (for example graphs can be implemented with edge lists or an adjacency matrix, but with both you want to be able to find a MST regardless of the underlying data structure).  If you have several types that all have the same functionality and give them the same parent node you can write one function that works regardless of which implementation it is given."
   ]
  },
  {
   "cell_type": "code",
   "execution_count": 8,
   "metadata": {
    "collapsed": false
   },
   "outputs": [
    {
     "name": "stdout",
     "output_type": "stream",
     "text": [
      "x + y = cme257OrderedPair{Int64}(5,7)\n",
      "x * y = cme257OrderedPair{Int64}(6,12)\n"
     ]
    }
   ],
   "source": [
    "import Base.+, Base.*\n",
    "\n",
    "x = cme257OrderedPair(2, 3)\n",
    "y = cme257OrderedPair(3, 4)\n",
    "\n",
    "function +{T}(x::cme257OrderedPair{T}, y::cme257OrderedPair{T})\n",
    "    return cme257OrderedPair(x.a + y.a, x.b + y.b) \n",
    "end\n",
    "\n",
    "@show x + y\n",
    "\n",
    "function *{T}(x::cme257OrderedPair{T}, y::cme257OrderedPair{T})\n",
    "    return cme257OrderedPair(x.a * y.a, x.b * y.b)\n",
    "end\n",
    "\n",
    "@show x * y\n",
    ";"
   ]
  },
  {
   "cell_type": "code",
   "execution_count": 9,
   "metadata": {
    "collapsed": false
   },
   "outputs": [
    {
     "name": "stdout",
     "output_type": "stream",
     "text": [
      "x + y = Quaternion{Int64}(5,5,5,5)\n",
      "x * y = Quaternion{Int64}(-12,6,24,12)\n"
     ]
    }
   ],
   "source": [
    "import Base.+, Base.*\n",
    "\n",
    "x = Quaternion(1, 2, 3, 4)\n",
    "y = Quaternion(4, 3, 2, 1)\n",
    "\n",
    "function +{T}(x::Quaternion{T}, y::Quaternion{T})\n",
    "    return Quaternion(x.r + y.r, x.i + y.i, x.j + y.j, x.k + y.k) \n",
    "end\n",
    "\n",
    "@show x + y\n",
    "\n",
    "function *{T}(x::Quaternion{T}, y::Quaternion{T})\n",
    "    return Quaternion(\n",
    "    x.r * y.r - x.i * y.i - x.j * y.j - x.k * y.k,\n",
    "    x.r * y.i + y.r * x.i + x.j * y.k - x.k * y.j,\n",
    "    x.r * y.j + y.r * x.j - x.i * y.k + x.k * y.i,\n",
    "    x.r * y.k + y.r * x.k + x.i * y.j - x.j * y.i\n",
    "    )\n",
    "end\n",
    "\n",
    "@show x * y\n",
    ";"
   ]
  },
  {
   "cell_type": "code",
   "execution_count": null,
   "metadata": {
    "collapsed": true
   },
   "outputs": [],
   "source": []
  }
 ],
 "metadata": {
  "kernelspec": {
   "display_name": "Julia 0.5.0-dev",
   "language": "julia",
   "name": "julia-0.5"
  },
  "language_info": {
   "file_extension": ".jl",
   "mimetype": "application/julia",
   "name": "julia",
   "version": "0.5.0"
  }
 },
 "nbformat": 4,
 "nbformat_minor": 0
}
