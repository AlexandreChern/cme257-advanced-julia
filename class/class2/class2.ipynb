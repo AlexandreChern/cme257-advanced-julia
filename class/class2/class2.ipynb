{
 "cells": [
  {
   "cell_type": "markdown",
   "metadata": {},
   "source": [
    "# Class 2 - Types, Functions, and Modules\n",
    "\n",
    "## Types\n",
    "\n",
    "Types in Julia come in several flavors.  For example, the following types may look somewhat familiar"
   ]
  },
  {
   "cell_type": "code",
   "execution_count": 1,
   "metadata": {
    "collapsed": false
   },
   "outputs": [
    {
     "name": "stdout",
     "output_type": "stream",
     "text": [
      "typeof(4) = Int64\n",
      "typeof(3.2) = Float64\n"
     ]
    }
   ],
   "source": [
    "@show typeof(4)\n",
    "@show typeof(3.2)\n",
    ";"
   ]
  },
  {
   "cell_type": "markdown",
   "metadata": {},
   "source": [
    "These types hold actual data (they are [bitstypes](http://julia.readthedocs.org/en/latest/manual/types/#bits-types) in Julia).  Every type in Julia has a \"super\" type. The type structure is a tree - Any is the root."
   ]
  },
  {
   "cell_type": "code",
   "execution_count": 2,
   "metadata": {
    "collapsed": false
   },
   "outputs": [
    {
     "name": "stdout",
     "output_type": "stream",
     "text": [
      "super(Float64) = AbstractFloat\n",
      "super(AbstractFloat) = Real\n",
      "super(Real) = Number\n",
      "super(Number) = Any\n",
      "super(Any) = Any\n"
     ]
    }
   ],
   "source": [
    "@show super(Float64)\n",
    "@show super(AbstractFloat)\n",
    "@show super(Real)\n",
    "@show super(Number)\n",
    "@show super(Any)\n",
    ";"
   ]
  },
  {
   "cell_type": "markdown",
   "metadata": {},
   "source": [
    "You can query whether one type is a descendant of another using \"<:\""
   ]
  },
  {
   "cell_type": "code",
   "execution_count": 6,
   "metadata": {
    "collapsed": false
   },
   "outputs": [
    {
     "name": "stdout",
     "output_type": "stream",
     "text": [
      "Float64 <: AbstractFloat = true\n",
      "Float64 <: Any = true\n",
      "Float64 <: Integer = false\n",
      "typeof(3.4) == Float64 = true\n"
     ]
    }
   ],
   "source": [
    "@show Float64 <: AbstractFloat\n",
    "@show Float64 <: Any\n",
    "@show Float64 <: Integer\n",
    "\n",
    "@show typeof(3.4) == Float64\n",
    ";"
   ]
  },
  {
   "cell_type": "markdown",
   "metadata": {},
   "source": [
    "Abstract types are nodes on the tree, but you never instantiate them (we'll talk about why you might want abstract types in functions)"
   ]
  },
  {
   "cell_type": "code",
   "execution_count": 7,
   "metadata": {
    "collapsed": false
   },
   "outputs": [
    {
     "name": "stdout",
     "output_type": "stream",
     "text": [
      "super(cme257abstract) = Any\n"
     ]
    }
   ],
   "source": [
    "abstract cme257abstract\n",
    "@show super(cme257abstract)\n",
    ";"
   ]
  },
  {
   "cell_type": "markdown",
   "metadata": {},
   "source": [
    "When you create a type, you can specify who its parent is."
   ]
  },
  {
   "cell_type": "code",
   "execution_count": 8,
   "metadata": {
    "collapsed": false
   },
   "outputs": [
    {
     "name": "stdout",
     "output_type": "stream",
     "text": [
      "super(cme257int) = cme257abstract\n",
      "super(cme257float) = cme257abstract\n"
     ]
    }
   ],
   "source": [
    "type cme257int <: cme257abstract # <: denotes \"child of\"\n",
    "    x::Int64 # :: tells us exactly what type x should be\n",
    "end\n",
    "type cme257float <: cme257abstract\n",
    "    x::Float64\n",
    "end\n",
    "@show super(cme257int)\n",
    "@show super(cme257float)\n",
    ";"
   ]
  },
  {
   "cell_type": "markdown",
   "metadata": {},
   "source": [
    "To instantiate a member of the type:"
   ]
  },
  {
   "cell_type": "code",
   "execution_count": 9,
   "metadata": {
    "collapsed": false
   },
   "outputs": [
    {
     "data": {
      "text/plain": [
       "4"
      ]
     },
     "execution_count": 9,
     "metadata": {},
     "output_type": "execute_result"
    }
   ],
   "source": [
    "y = cme257int(4)\n",
    "y.x"
   ]
  },
  {
   "cell_type": "markdown",
   "metadata": {},
   "source": [
    "Types can be parameterized (similar to C++ templates).  The parameterized type can be inferred by the type of the arguments in the constructor, or made explicit."
   ]
  },
  {
   "cell_type": "code",
   "execution_count": 11,
   "metadata": {
    "collapsed": false
   },
   "outputs": [],
   "source": [
    "type cme257par{T} <: cme257abstract\n",
    "    val::T \n",
    "end\n",
    ";"
   ]
  },
  {
   "cell_type": "code",
   "execution_count": 12,
   "metadata": {
    "collapsed": false
   },
   "outputs": [
    {
     "name": "stdout",
     "output_type": "stream",
     "text": [
      "y = cme257par(3.5) = cme257par{Float64}(3.5)\n",
      "z = cme257par{Float64}(3) = cme257par{Float64}(3.0)\n"
     ]
    }
   ],
   "source": [
    "@show y = cme257par(3.5)\n",
    "@show z = cme257par{Float64}(3)\n",
    ";"
   ]
  },
  {
   "cell_type": "markdown",
   "metadata": {},
   "source": [
    "Immutable types don't allow you to change data once you have instantiated the type.  This restriction gan give you better performance."
   ]
  },
  {
   "cell_type": "code",
   "execution_count": 13,
   "metadata": {
    "collapsed": false
   },
   "outputs": [
    {
     "name": "stdout",
     "output_type": "stream",
     "text": [
      "a.x = 5"
     ]
    },
    {
     "ename": "LoadError",
     "evalue": "LoadError: type cme257immutable is immutable\nwhile loading In[13], in expression starting on line 127",
     "output_type": "error",
     "traceback": [
      "LoadError: type cme257immutable is immutable\nwhile loading In[13], in expression starting on line 127",
      ""
     ]
    },
    {
     "name": "stdout",
     "output_type": "stream",
     "text": [
      "\n"
     ]
    }
   ],
   "source": [
    "immutable cme257immutable <: cme257abstract\n",
    "   x \n",
    "end\n",
    "\n",
    "a = cme257immutable(5)\n",
    "@show a.x\n",
    "@show a.x = 6\n",
    ";"
   ]
  },
  {
   "cell_type": "markdown",
   "metadata": {},
   "source": [
    "## Break for Worksheet 1\n",
    "\n",
    "## Functions\n",
    "\n",
    "Functions map a tuple of arguments to an output. For example, the following function maps two inputs to their sum."
   ]
  },
  {
   "cell_type": "code",
   "execution_count": 14,
   "metadata": {
    "collapsed": false
   },
   "outputs": [
    {
     "name": "stdout",
     "output_type": "stream",
     "text": [
      "z = cme257_sum(1,2) = 3\n"
     ]
    }
   ],
   "source": [
    "function cme257_sum(x, y)\n",
    "    return x + y\n",
    "end\n",
    "@show z = cme257_sum(1,2)\n",
    ";"
   ]
  },
  {
   "cell_type": "markdown",
   "metadata": {},
   "source": [
    "Julia uses multiple dispatch in functions.  This means you can define two functions with the same name that will behave differently based on the type of the input.  A definition of one possible behavior for a function is [called a method](docs.julialang.org/en/latest/manual/methods)."
   ]
  },
  {
   "cell_type": "code",
   "execution_count": 15,
   "metadata": {
    "collapsed": false
   },
   "outputs": [
    {
     "name": "stdout",
     "output_type": "stream",
     "text": [
      "I'M AN INT64!\n",
      "I'M A FLOAT64!\n"
     ]
    }
   ],
   "source": [
    "# this may not work if you have a 32-but architecture\n",
    "function yell_my_type(x::Int64)\n",
    "    println(\"I'M AN INT64!\")\n",
    "end\n",
    "function yell_my_type(x::Float64)\n",
    "    println(\"I'M A FLOAT64!\")\n",
    "end\n",
    "yell_my_type(3)\n",
    "yell_my_type(3.4)\n",
    ";"
   ]
  },
  {
   "cell_type": "markdown",
   "metadata": {},
   "source": [
    "If you've only defined your function for particular types, you may see an error like this:"
   ]
  },
  {
   "cell_type": "code",
   "execution_count": 16,
   "metadata": {
    "collapsed": false
   },
   "outputs": [
    {
     "ename": "LoadError",
     "evalue": "LoadError: MethodError: `yell_my_type` has no method matching yell_my_type(::Rational{Int64})\nwhile loading In[16], in expression starting on line 1",
     "output_type": "error",
     "traceback": [
      "LoadError: MethodError: `yell_my_type` has no method matching yell_my_type(::Rational{Int64})\nwhile loading In[16], in expression starting on line 1",
      ""
     ]
    }
   ],
   "source": [
    "yell_my_type(3//4)"
   ]
  },
  {
   "cell_type": "markdown",
   "metadata": {},
   "source": [
    "Errors can be bad if you expect the function to behave a certain way, or good if they indicate that someone is using your function incorrectly.  If you want the same behavior for all types that share an ancestor, you can use \"<:\""
   ]
  },
  {
   "cell_type": "code",
   "execution_count": 17,
   "metadata": {
    "collapsed": false
   },
   "outputs": [
    {
     "name": "stdout",
     "output_type": "stream",
     "text": [
      "I'M A NUMBER!\n",
      "I'M A FLOAT64!\n"
     ]
    }
   ],
   "source": [
    "function yell_my_type{T <: Number}(x::T)\n",
    "    println(\"I'M A NUMBER!\")\n",
    "end\n",
    "yell_my_type(3//4)\n",
    "yell_my_type(3.4) # note that the more specific function declaration is used\n",
    ";"
   ]
  },
  {
   "cell_type": "markdown",
   "metadata": {},
   "source": [
    "If you want to try to cover all possible inputs, you can just leave off type annotations.  Your more specific methods will still be used for the relevant inputs."
   ]
  },
  {
   "cell_type": "code",
   "execution_count": 18,
   "metadata": {
    "collapsed": false
   },
   "outputs": [
    {
     "name": "stdout",
     "output_type": "stream",
     "text": [
      "I DON'T KNOW MY TYPE!\n",
      "I'M A NUMBER!\n",
      "I'M A FLOAT64!\n"
     ]
    }
   ],
   "source": [
    "function yell_my_type(x)\n",
    "    println(\"I DON'T KNOW MY TYPE!\")\n",
    "end\n",
    "yell_my_type(yell_my_type) # everything in Julia has a type.  Even functions.\n",
    "yell_my_type(3//4)\n",
    "yell_my_type(3.4)\n",
    ";"
   ]
  },
  {
   "cell_type": "markdown",
   "metadata": {},
   "source": [
    "You can also add new methods to Julia's built in functions:"
   ]
  },
  {
   "cell_type": "code",
   "execution_count": 19,
   "metadata": {
    "collapsed": false
   },
   "outputs": [
    {
     "name": "stdout",
     "output_type": "stream",
     "text": [
      "a + b = cme257int(7)\n"
     ]
    }
   ],
   "source": [
    "import Base.+\n",
    "function +(a::cme257int, b::cme257int)\n",
    "    return cme257int((a.x+b.x))\n",
    "end\n",
    "a = cme257int(3)\n",
    "b = cme257int(4)\n",
    "@show a + b\n",
    ";"
   ]
  },
  {
   "cell_type": "markdown",
   "metadata": {},
   "source": [
    "## Break for Worksheet 2"
   ]
  },
  {
   "cell_type": "markdown",
   "metadata": {
    "collapsed": true
   },
   "source": [
    "## More on Types and Functions\n",
    "\n",
    "Sometimes you may wish to have optional arguments to a function that default to certain values."
   ]
  },
  {
   "cell_type": "code",
   "execution_count": 20,
   "metadata": {
    "collapsed": false
   },
   "outputs": [
    {
     "name": "stdout",
     "output_type": "stream",
     "text": [
      "hello\n",
      "goodbye\n"
     ]
    }
   ],
   "source": [
    "function say(str=\"hello\")\n",
    "    println(\"$str\")\n",
    "end\n",
    "say()\n",
    "say(\"goodbye\")\n",
    ";"
   ]
  },
  {
   "cell_type": "markdown",
   "metadata": {},
   "source": [
    "You can also add methods to constructor functions for types.  Often these will be included inside type defintions inside the Julia codebase."
   ]
  },
  {
   "cell_type": "code",
   "execution_count": 21,
   "metadata": {
    "collapsed": false
   },
   "outputs": [
    {
     "name": "stdout",
     "output_type": "stream",
     "text": [
      "a = cme257int() = cme257int(0)\n"
     ]
    }
   ],
   "source": [
    "cme257int() = cme257int(0)\n",
    "@show a = cme257int()\n",
    ";"
   ]
  },
  {
   "cell_type": "markdown",
   "metadata": {},
   "source": [
    "If you want something that looks like classical object oriented programming, you can create types like the following:  (example modified from [this one](https://thenewphalls.wordpress.com/2014/03/06/understanding-object-oriented-programming-in-julia-inheritance-part-2/))"
   ]
  },
  {
   "cell_type": "code",
   "execution_count": 22,
   "metadata": {
    "collapsed": false
   },
   "outputs": [
    {
     "name": "stdout",
     "output_type": "stream",
     "text": [
      "cme257ootype\n"
     ]
    }
   ],
   "source": [
    "type cme257ootype <: cme257abstract\n",
    "    print_type::Function\n",
    " \n",
    "    function cme257ootype()\n",
    "        instance = new()\n",
    " \n",
    "        instance.print_type = function ()\n",
    "            println(\"cme257ootype\")\n",
    "        end\n",
    " \n",
    "        return instance\n",
    "    end\n",
    "end\n",
    "\n",
    "a = cme257ootype()\n",
    "a.print_type()\n",
    ";"
   ]
  },
  {
   "cell_type": "markdown",
   "metadata": {},
   "source": [
    "However, this strategy will suffer a performance penalty.\n",
    "\n",
    "What if you have defined a special integer type (such as cme257int), and want to add a method to \"/\" to implement division?  The true answer may be something that is not an integer, so you may wish to convert to a cme257float."
   ]
  },
  {
   "cell_type": "code",
   "execution_count": 26,
   "metadata": {
    "collapsed": false
   },
   "outputs": [
    {
     "name": "stdout",
     "output_type": "stream",
     "text": [
      "a = cme257int(5) = cme257int(5)\n",
      "convert(cme257float,a) = cme257float(5.0)\n",
      "z_convert(cme257float,a) = cme257float(5.0)\n",
      "convert(a,a) = cme257float(5.0)\n"
     ]
    }
   ],
   "source": [
    "function convert(::Type{cme257float}, a::cme257int) \n",
    "    return cme257float(a.x)\n",
    "end\n",
    "function convert(a::cme257int, b::cme257int) \n",
    "    return cme257float(a.x)\n",
    "end\n",
    "function z_convert(::Type{cme257float}, a::cme257int) \n",
    "    return cme257float(a.x)\n",
    "end\n",
    "@show a = cme257int(5)\n",
    "@show convert(cme257float, a)\n",
    "@show z_convert(cme257float, a)\n",
    "@show convert(a, a)\n",
    ";"
   ]
  },
  {
   "cell_type": "markdown",
   "metadata": {},
   "source": [
    "now since we can convert cme257ints to cme257floats, we can define division"
   ]
  },
  {
   "cell_type": "code",
   "execution_count": 27,
   "metadata": {
    "collapsed": false
   },
   "outputs": [
    {
     "name": "stdout",
     "output_type": "stream",
     "text": [
      "a / b = cme257float(1.25)\n"
     ]
    }
   ],
   "source": [
    "import Base./\n",
    "function /(a::cme257float, b::cme257float)\n",
    "    return cme257float(a.x / b.x) \n",
    "end\n",
    "\n",
    "function /(a::cme257int, b::cme257int)\n",
    "    return convert(cme257float, a) / convert(cme257float, b) \n",
    "end\n",
    "\n",
    "a = cme257int(5)\n",
    "b = cme257int(4)\n",
    "@show a/b\n",
    ";"
   ]
  },
  {
   "cell_type": "markdown",
   "metadata": {},
   "source": [
    "Note that Julia's built in arithmetic types and operators already have conversion defined and implemented where necessary.  You mostly need to know about this if you're defining your own types.\n",
    "\n",
    "## Modules\n",
    "\n",
    "Modules are useful for packaging (modularizing) functionality that you create.  This allows you to re-use code, or automatically import functions that you like to use when you start a new Julia session."
   ]
  },
  {
   "cell_type": "code",
   "execution_count": 4,
   "metadata": {
    "collapsed": false
   },
   "outputs": [
    {
     "name": "stderr",
     "output_type": "stream",
     "text": [
      "WARNING: replacing module cme257mod\n"
     ]
    },
    {
     "name": "stdout",
     "output_type": "stream",
     "text": [
      "hello from cme257mod!\n"
     ]
    },
    {
     "ename": "LoadError",
     "evalue": "LoadError: UndefVarError: not_exported not defined\nwhile loading In[4], in expression starting on line 4",
     "output_type": "error",
     "traceback": [
      "LoadError: UndefVarError: not_exported not defined\nwhile loading In[4], in expression starting on line 4",
      ""
     ]
    },
    {
     "name": "stdout",
     "output_type": "stream",
     "text": [
      "x = cme257mod.ModType(5) = cme257mod.ModType(5)\n"
     ]
    }
   ],
   "source": [
    "include(\"cme257mod.jl\") # you need to provide an accurate absolute or relative path\n",
    "cme257mod.speak()\n",
    "@show x = cme257mod.ModType(5)\n",
    "not_exported()\n",
    ";"
   ]
  },
  {
   "cell_type": "markdown",
   "metadata": {},
   "source": [
    "## Break for Worksheet 3"
   ]
  },
  {
   "cell_type": "code",
   "execution_count": null,
   "metadata": {
    "collapsed": true
   },
   "outputs": [],
   "source": []
  }
 ],
 "metadata": {
  "kernelspec": {
   "display_name": "Julia 0.5.0-dev",
   "language": "julia",
   "name": "julia-0.5"
  },
  "language_info": {
   "file_extension": ".jl",
   "mimetype": "application/julia",
   "name": "julia",
   "version": "0.5.0"
  }
 },
 "nbformat": 4,
 "nbformat_minor": 0
}
