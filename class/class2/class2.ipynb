{
 "cells": [
  {
   "cell_type": "markdown",
   "metadata": {},
   "source": [
    "# Class 2 - Types, Functions, and Modules\n",
    "\n",
    "Today, we'll see how Julia lets us rapidly develop code like Python or Matlab, and also how we can drill down and make our code fast like C/Fortran.  Sometimes these two styles are not mutually exclusive.\n",
    "\n",
    "First, we'll demonstrate how to quickly write a function.  For simplicity, we'll just consider the example\n",
    "\n",
    "$$f(x,y) = x + y^2$$"
   ]
  },
  {
   "cell_type": "code",
   "execution_count": null,
   "metadata": {},
   "outputs": [],
   "source": [
    "function demofunc(x,y)\n",
    "    x + y^2\n",
    "end"
   ]
  },
  {
   "cell_type": "code",
   "execution_count": null,
   "metadata": {},
   "outputs": [],
   "source": [
    "# a more concise way to write short functions\n",
    "demofunc(x,y) = x + y^2"
   ]
  },
  {
   "cell_type": "code",
   "execution_count": null,
   "metadata": {},
   "outputs": [],
   "source": [
    "# we can now call our demo function on a variety of inputs\n",
    "@show demofunc(2,5)\n",
    "@show demofunc(2, 5.0)\n",
    "@show demofunc(2, randn(2,2))\n",
    "@show demofunc('h', 2)\n",
    ";"
   ]
  },
  {
   "cell_type": "markdown",
   "metadata": {},
   "source": [
    "## Types\n",
    "\n",
    "If you have primarily programmed in Python, MATLAB, or R, you likely haven't had to think too much about types before.  This makes it easier to write code, but ultimately can make it difficult to write code that is fast and memory efficient.\n",
    "\n",
    "If you have experience in C, C++, or Fortran, you probably already know something about types - today we'll see how Types work in Julia.\n",
    "\n",
    "### Type Basics\n",
    "\n",
    "When you use a type in a programming language, you are telling the computer\n",
    "* How a variable should be stored\n",
    "* Something about how you intend to use it\n",
    "\n",
    "Even if you haven't seen types before in programming, you should already have some intution from mathematics - consider for example, integers $Z$, real numbers $R$, and complex numbers $C$ - you can think of these as types\n",
    "* $Z$, $R$, and $C$ are closed under addition and subtraction (+ takes two inputs and has a deterministic output)\n",
    "* You can divide in $R$ and $C$ (except for 0), but not in $Z$ (3 / 2?)\n",
    "* You know something about representing an element on a piece of paper: $Z$ (no decimal, but maybe a symbol $-$), $R$ (perhaps you need a decimal), and $C$, (you can use two real numbers and a symbol $i$)\n",
    "* You can represent an integer as a real number, and a real number as a complex number, but not the other ways around (this is an example of type promotion)\n",
    "* Certain functions have outputs in one of these sets.  For example, a square root is generally complex (an example of output type)\n",
    "\n",
    "Using types in programming allows you to share your knowledge about all these issues with a computer.\n",
    "\n",
    "We didn't use types in ```demofunc``` which made programming very easy for us.  However, this means that the compiler/interpreter can't assume too much about our inputs $x$ and $y$, or what we're going to do with them. \n",
    "\n",
    "Types can be useful for several reasons\n",
    "* They give the complier/interpreter information that can be used to make code faster and more memory efficient\n",
    "* Figuring things out is done at complie time, not run time\n",
    "* They help you (the programmer) keep track of what code should be doing\n",
    "* They prevent the code from being used in unintended ways ('h' + 2^2?)\n",
    "\n",
    "\n",
    "### Types in Julia\n",
    "\n",
    "\n",
    "Types in Julia come in several flavors.  For example, the following types may look somewhat familiar"
   ]
  },
  {
   "cell_type": "code",
   "execution_count": null,
   "metadata": {
    "scrolled": true
   },
   "outputs": [],
   "source": [
    "@show typeof(4)\n",
    "@show typeof(3.2)\n",
    ";"
   ]
  },
  {
   "cell_type": "markdown",
   "metadata": {},
   "source": [
    "Everything has a type in Julia, even types"
   ]
  },
  {
   "cell_type": "code",
   "execution_count": null,
   "metadata": {},
   "outputs": [],
   "source": [
    "@show typeof(Float64)\n",
    "@show typeof(DataType)\n",
    "@show supertype(DataType)\n",
    "@show typeof(+)\n",
    "@show supertype(typeof(+))\n",
    "@show typeof(randn(3,3))\n",
    ";"
   ]
  },
  {
   "cell_type": "markdown",
   "metadata": {},
   "source": [
    "Types like Float64 and Int64 actually hold data (they are [primitive types](https://docs.julialang.org/en/stable/manual/types/#Primitive-Types-1) in Julia).  Every type in Julia has a \"super\" type. The type structure is a tree - Any is the root."
   ]
  },
  {
   "cell_type": "code",
   "execution_count": null,
   "metadata": {},
   "outputs": [],
   "source": [
    "@show supertype(Float64)\n",
    "@show supertype(AbstractFloat)\n",
    "@show supertype(Real)\n",
    "@show supertype(Number)\n",
    "@show supertype(Any)\n",
    "\n",
    "@show isbits(Float64) # note primitive types used to be called bits types - think of this as isprimitive\n",
    ";"
   ]
  },
  {
   "cell_type": "markdown",
   "metadata": {},
   "source": [
    "you can also go down the tree by seeing subtypes of a supertype"
   ]
  },
  {
   "cell_type": "code",
   "execution_count": null,
   "metadata": {},
   "outputs": [],
   "source": [
    "subtypes(AbstractFloat)"
   ]
  },
  {
   "cell_type": "code",
   "execution_count": null,
   "metadata": {},
   "outputs": [],
   "source": [
    "# Types that actually hold data don't have subtypes\n",
    "subtypes(Float64)"
   ]
  },
  {
   "cell_type": "markdown",
   "metadata": {},
   "source": [
    "You can query whether one type is a descendant of another using \"<:\""
   ]
  },
  {
   "cell_type": "code",
   "execution_count": null,
   "metadata": {},
   "outputs": [],
   "source": [
    "@show Float64 <: AbstractFloat\n",
    "@show Float64 <: Any\n",
    "@show Float64 <: Integer\n",
    "\n",
    "@show typeof(3.4) == Float64\n",
    ";"
   ]
  },
  {
   "cell_type": "markdown",
   "metadata": {},
   "source": [
    "Abstract types are nodes on the tree, but you never instantiate them (we'll talk about why you might want abstract types in functions)"
   ]
  },
  {
   "cell_type": "code",
   "execution_count": null,
   "metadata": {},
   "outputs": [],
   "source": [
    "abstract type cme257abstract end\n",
    "@show supertype(cme257abstract)\n",
    ";"
   ]
  },
  {
   "cell_type": "markdown",
   "metadata": {},
   "source": [
    "When you create a type, you can specify who its parent is."
   ]
  },
  {
   "cell_type": "code",
   "execution_count": null,
   "metadata": {},
   "outputs": [],
   "source": [
    "# an abstract type for our real number types\n",
    "abstract type cme257real <: cme257abstract end\n",
    "\n",
    "type cme257int <: cme257real # <: denotes \"child of\"\n",
    "    x::Int64 # :: tells us exactly what type x should be\n",
    "end\n",
    "type cme257float <: cme257real\n",
    "    x::Float64\n",
    "end\n",
    "@show supertype(cme257int)\n",
    "@show supertype(cme257float)\n",
    ";"
   ]
  },
  {
   "cell_type": "markdown",
   "metadata": {},
   "source": [
    "When you create a type, a constructor function is automatically created based on the values of the type. To instantiate a member of the type:"
   ]
  },
  {
   "cell_type": "code",
   "execution_count": null,
   "metadata": {},
   "outputs": [],
   "source": [
    "y = cme257int(4)\n",
    "y.x"
   ]
  },
  {
   "cell_type": "markdown",
   "metadata": {},
   "source": [
    "Types can be parameterized (similar to C++ templates).  The parameterized type can be inferred by the type of the arguments in the constructor, or made explicit."
   ]
  },
  {
   "cell_type": "code",
   "execution_count": null,
   "metadata": {},
   "outputs": [],
   "source": [
    "type cme257par{T} <: cme257abstract\n",
    "    val::T \n",
    "end\n",
    ";"
   ]
  },
  {
   "cell_type": "code",
   "execution_count": null,
   "metadata": {},
   "outputs": [],
   "source": [
    "@show y = cme257par(3.5) # type can be inferred\n",
    "@show z = cme257par{Float64}(3) # explicit type\n",
    ";"
   ]
  },
  {
   "cell_type": "markdown",
   "metadata": {},
   "source": [
    "Immutable types don't allow you to change data once you have instantiated the type.  This restriction can give you better performance."
   ]
  },
  {
   "cell_type": "code",
   "execution_count": null,
   "metadata": {},
   "outputs": [],
   "source": [
    "immutable cme257immutable <: cme257abstract\n",
    "   x \n",
    "end\n",
    "\n",
    "a = cme257immutable(5)\n",
    "@show a.x\n",
    "@show a.x = 6\n",
    ";"
   ]
  },
  {
   "cell_type": "markdown",
   "metadata": {},
   "source": [
    "You can modify the behavior of the default constructor in the type definition.  You can also add additional constructors for different types of input.  See more in the [documentation](https://docs.julialang.org/en/stable/manual/constructors/#man-constructors-1)"
   ]
  },
  {
   "cell_type": "code",
   "execution_count": null,
   "metadata": {},
   "outputs": [],
   "source": [
    "# Combining templates with immutables\n",
    "# we'll use this for finite fields with characteristic N\n",
    "immutable cme257ff{N, T<:Integer} #<: cme257abstract\n",
    "    val::T\n",
    "    # override the default constructor to store things mod N\n",
    "    cme257ff{N,T}(val::T) where {N,T<:Integer} = new(mod(val,N))\n",
    "end\n",
    "\n",
    "# You'll also see the N convention in Julia with types like Array{T,N}, where T is a type and N is a number\n",
    "\n",
    "# This will create constructors where the type of the value is inferred\n",
    "cme257ff{N}(val::T) where {N, T} = cme257ff{N,T}(val)\n",
    "# this will create constructors where signed integers are converted to unsigned integers\n",
    "cme257ff{N,T}(val::T) where {N, T<:Signed} = cme257ff{N}(Unsigned(val))\n",
    "# Note that the above are examples of creating functions\n",
    "\n",
    "@show x = cme257ff{7, UInt8}(UInt8(12)) \n",
    "@show x2 = cme257ff{7}(UInt8(5))\n",
    "@show x3 = cme257ff{5}(UInt(3))\n",
    "@show x4 = cme257ff{11}(13)\n",
    ";"
   ]
  },
  {
   "cell_type": "markdown",
   "metadata": {},
   "source": [
    "Types constructed with parameters are called UnionAll types.  They are not DataTypes, since they can not hold data until their parameters are specified.\n",
    "\n",
    "One nice feature of using parametric types is that it allows you to ignore details that are largely irrelevant.  In the above example, we don't need to worry about what how the ```val``` parameter is actually stored (that is, what the type is), as long as it is an integer.  If someone who uses the type cares sufficiently, they can force the issue with an explicit constructor - otherwise, the issue can mostly be ignored (as with ```x4```).  We'll see more about the power of parametric types when we talk about functions.\n",
    "\n",
    "For the purposes of this class, you don't need to know much about UnionAll types beyond the basics (the above example is more advanced).  For more information about UnionAll types, and what you can do with the ```where``` keyword, check out the [documentation](https://docs.julialang.org/en/stable/manual/types/#UnionAll-Types-1)."
   ]
  },
  {
   "cell_type": "code",
   "execution_count": null,
   "metadata": {},
   "outputs": [],
   "source": [
    "@show typeof(cme257ff)\n",
    "@show typeof(cme257ff{5,UInt8})\n",
    "@show supertype(cme257ff{5,UInt8})\n",
    ";"
   ]
  },
  {
   "cell_type": "markdown",
   "metadata": {},
   "source": [
    "An example of creating a primitive type - you'll have to define quite a few functions by yourself, since you don't even get a constructor.  This is the only time we'll create a primitive type in this course."
   ]
  },
  {
   "cell_type": "code",
   "execution_count": null,
   "metadata": {},
   "outputs": [],
   "source": [
    "primitive type cme257prim <: cme257abstract 8 end"
   ]
  },
  {
   "cell_type": "code",
   "execution_count": null,
   "metadata": {},
   "outputs": [],
   "source": [
    "a = Core.Intrinsics.bitcast(cme257prim, UInt8(5)) # bit cast to put bits in your type"
   ]
  },
  {
   "cell_type": "markdown",
   "metadata": {},
   "source": [
    "## Break for Worksheet 1\n",
    "\n",
    "## Functions\n",
    "\n",
    "Functions map a tuple of arguments to an output. For example, the following function maps two inputs to their sum."
   ]
  },
  {
   "cell_type": "code",
   "execution_count": null,
   "metadata": {},
   "outputs": [],
   "source": [
    "function cme257_sum(x, y)\n",
    "    return x + y\n",
    "end\n",
    "@show z = cme257_sum(1,2)\n",
    ";"
   ]
  },
  {
   "cell_type": "markdown",
   "metadata": {},
   "source": [
    "Julia uses multiple dispatch in functions.  This means you can define two functions with the same name that will behave differently based on the type of the input.  A definition of one possible behavior for a function is [called a method](docs.julialang.org/en/latest/manual/methods)."
   ]
  },
  {
   "cell_type": "code",
   "execution_count": null,
   "metadata": {},
   "outputs": [],
   "source": [
    "# this may not work if you have a 32-but architecture\n",
    "function yell_my_type(x::Int64)\n",
    "    println(\"I'M AN INT64!\")\n",
    "end\n",
    "function yell_my_type(x::Float64)\n",
    "    println(\"I'M A FLOAT64!\")\n",
    "end\n",
    "yell_my_type(3)\n",
    "yell_my_type(3.4)\n",
    ";"
   ]
  },
  {
   "cell_type": "markdown",
   "metadata": {},
   "source": [
    "If you've only defined your function for particular types, you may see an error like this:"
   ]
  },
  {
   "cell_type": "code",
   "execution_count": null,
   "metadata": {},
   "outputs": [],
   "source": [
    "yell_my_type(3//4)"
   ]
  },
  {
   "cell_type": "markdown",
   "metadata": {},
   "source": [
    "Errors can be bad if you expect the function to behave a certain way, or good if they indicate that someone is using your function incorrectly.  If you want the same behavior for all types that share an ancestor, you can use \"<:\""
   ]
  },
  {
   "cell_type": "code",
   "execution_count": null,
   "metadata": {},
   "outputs": [],
   "source": [
    "function yell_my_type{T <: Number}(x::T)\n",
    "    println(\"I'M A NUMBER!\")\n",
    "end\n",
    "yell_my_type(3//4)\n",
    "yell_my_type(3.4) # note that the more specific function declaration is used\n",
    ";"
   ]
  },
  {
   "cell_type": "markdown",
   "metadata": {},
   "source": [
    "If you want to try to cover all possible inputs, you can just leave off type annotations.  Your more specific methods will still be used for the relevant inputs."
   ]
  },
  {
   "cell_type": "code",
   "execution_count": null,
   "metadata": {},
   "outputs": [],
   "source": [
    "function yell_my_type(x)\n",
    "    println(\"I DON'T KNOW MY TYPE!\")\n",
    "end\n",
    "yell_my_type(yell_my_type) # everything in Julia has a type.  Even functions.\n",
    "yell_my_type(3//4)\n",
    "yell_my_type(3.4)\n",
    ";"
   ]
  },
  {
   "cell_type": "markdown",
   "metadata": {},
   "source": [
    "You can also add new methods to Julia's built in functions:"
   ]
  },
  {
   "cell_type": "code",
   "execution_count": null,
   "metadata": {},
   "outputs": [],
   "source": [
    "import Base.+\n",
    "function +{T<:cme257real}(a::T, b::T)\n",
    "    return T((a.x+b.x))\n",
    "end\n",
    "a = cme257int(3)\n",
    "b = cme257int(4)\n",
    "@show a + b\n",
    ";"
   ]
  },
  {
   "cell_type": "markdown",
   "metadata": {},
   "source": [
    "Once you've created your own types, you may also wish have custom printing for things like the ```@show``` macro.  See the [documentation](https://docs.julialang.org/en/stable/manual/types/#Custom-pretty-printing-1) for reference."
   ]
  },
  {
   "cell_type": "code",
   "execution_count": null,
   "metadata": {},
   "outputs": [],
   "source": [
    "# pretty printing for our cme257ff type with underlying storage mentioned\n",
    "Base.show{N,T}(io::IO, x::cme257ff{N,T}) = print(io, x.val, \" mod \", N, \" (\", T, \")\")\n",
    "\n",
    "x = cme257ff{5}(7)\n",
    "@show x\n",
    ";"
   ]
  },
  {
   "cell_type": "markdown",
   "metadata": {},
   "source": [
    "## Break for Worksheet 2"
   ]
  },
  {
   "cell_type": "markdown",
   "metadata": {
    "collapsed": true
   },
   "source": [
    "## More on Types and Functions\n",
    "\n",
    "Sometimes you may wish to have optional arguments to a function that default to certain values."
   ]
  },
  {
   "cell_type": "code",
   "execution_count": null,
   "metadata": {},
   "outputs": [],
   "source": [
    "function say(str=\"hello\")\n",
    "    println(\"$str\")\n",
    "end\n",
    "say()\n",
    "say(\"goodbye\")\n",
    ";"
   ]
  },
  {
   "cell_type": "markdown",
   "metadata": {},
   "source": [
    "You can also add key-word arguments (to the right of a semicolon ```;```).  These must come with default assignments"
   ]
  },
  {
   "cell_type": "code",
   "execution_count": null,
   "metadata": {},
   "outputs": [],
   "source": [
    "function cme257kw(a::Float64; b::Int64=10, c::Int64=20)\n",
    "    println(\"a = $a, b = $b, c=$c\")\n",
    "end\n",
    "\n",
    "cme257kw(1.0)\n",
    "cme257kw(2.0, c=11)\n",
    "cme257kw(3.0, c=10, b=5)\n",
    ";"
   ]
  },
  {
   "cell_type": "markdown",
   "metadata": {},
   "source": [
    "You can also add methods to constructor functions for types.  Often these will be included inside type defintions inside the Julia codebase."
   ]
  },
  {
   "cell_type": "code",
   "execution_count": null,
   "metadata": {},
   "outputs": [],
   "source": [
    "cme257int() = cme257int(0)\n",
    "@show a = cme257int()\n",
    "\n",
    "const cme257ff{N} = cme257ff{UInt64,N}\n",
    "\n",
    "@show b = cme257ff{5}(3)\n",
    ";"
   ]
  },
  {
   "cell_type": "markdown",
   "metadata": {},
   "source": [
    "### Type Conversion\n",
    "\n",
    "What if you have defined a special integer type (such as cme257int), and want to add a method to \"/\" to implement division?  The true answer may be something that is not an integer, so you may wish to convert to a cme257float."
   ]
  },
  {
   "cell_type": "code",
   "execution_count": null,
   "metadata": {},
   "outputs": [],
   "source": [
    "function convert(::Type{cme257float}, a::cme257int) \n",
    "    return cme257float(a.x)\n",
    "end\n",
    "\n",
    "@show a = cme257int(5)\n",
    "@show convert(cme257float, a)\n",
    ";"
   ]
  },
  {
   "cell_type": "markdown",
   "metadata": {},
   "source": [
    "now since we can convert cme257ints to cme257floats, we can define division"
   ]
  },
  {
   "cell_type": "code",
   "execution_count": null,
   "metadata": {},
   "outputs": [],
   "source": [
    "import Base./\n",
    "function /(a::cme257float, b::cme257float)\n",
    "    return cme257float(a.x / b.x) \n",
    "end\n",
    "\n",
    "function /(a::cme257int, b::cme257int)\n",
    "    return convert(cme257float, a) / convert(cme257float, b) \n",
    "end\n",
    "\n",
    "a = cme257int(5)\n",
    "b = cme257int(4)\n",
    "@show a/b\n",
    ";"
   ]
  },
  {
   "cell_type": "markdown",
   "metadata": {},
   "source": [
    "Note that Julia's built in arithmetic types and operators already have conversion defined and implemented where necessary.  You mostly need to know about this if you're defining your own types.\n",
    "\n",
    "### Promotion\n",
    "\n",
    "Suppose you want to add a cme257int to a cme257float.  What would the correct type be?  Since integers are a subset of the reals, the natural answer is a cme257float.  In order to achieve this, we should promote a cme257int to a cme257float, on which addition is defined."
   ]
  },
  {
   "cell_type": "code",
   "execution_count": null,
   "metadata": {},
   "outputs": [],
   "source": [
    "function convert(::Type{cme257float}, a::cme257float) \n",
    "    return a\n",
    "end\n",
    "\n",
    "# the following tells us how to promote types when there is a cme257int and cme257float involved\n",
    "promote_rule(::Type{cme257float}, ::Type{cme257int}) = cme257float\n",
    "\n",
    "function +{T1<:cme257real, T2<:cme257real}(a::T1, b::T2)\n",
    "    T = promote_rule(T1, T2)\n",
    "    return convert(T,a) + convert(T,b)\n",
    "end\n",
    "\n",
    "a = cme257int(1)\n",
    "b = cme257float(1.0)\n",
    "\n",
    "@show a+b\n",
    "@show b+a\n",
    ";"
   ]
  },
  {
   "cell_type": "markdown",
   "metadata": {},
   "source": [
    "We can see how to make our cme257ff operations more robust to underlying storage type"
   ]
  },
  {
   "cell_type": "code",
   "execution_count": null,
   "metadata": {},
   "outputs": [],
   "source": [
    "import Base.*, Base.+\n",
    "function *{N, T1, T2}(a::cme257ff{N,T1}, b::cme257ff{N,T2})\n",
    "    T = promote_type(T1, T2)\n",
    "    cme257ff{N,T}(T(mod(a.val * b.val, N)))\n",
    "end\n",
    "\n",
    "function +{N,T1, T2}(a::cme257ff{N,T1}, b::cme257ff{N,T2})\n",
    "    T = promote_type(T1, T2)\n",
    "    cme257ff{N,T}(T(mod(a.val + b.val,N)))\n",
    "end\n",
    "\n",
    "x = cme257ff{5}(UInt8(2))\n",
    "@show x\n",
    "y = cme257ff{5}(UInt16(4))\n",
    "@show y\n",
    "@show x*y # 2 * 4 = 8 = 3 mod 5\n",
    "@show x+y # 2 + 4 = 6 = 1 mod 5\n",
    ";"
   ]
  },
  {
   "cell_type": "markdown",
   "metadata": {},
   "source": [
    "## Modules\n",
    "\n",
    "Modules are useful for packaging (modularizing) functionality that you create.  This allows you to re-use code, or automatically import functions that you like to use when you start a new Julia session."
   ]
  },
  {
   "cell_type": "code",
   "execution_count": null,
   "metadata": {},
   "outputs": [],
   "source": [
    "include(\"cme257mod.jl\") # you need to provide an accurate absolute or relative path\n",
    "cme257mod.speak()\n",
    "@show x = cme257mod.ModType(5)\n",
    ";"
   ]
  },
  {
   "cell_type": "markdown",
   "metadata": {},
   "source": [
    "## Break for Worksheet 3"
   ]
  },
  {
   "cell_type": "code",
   "execution_count": null,
   "metadata": {},
   "outputs": [],
   "source": []
  }
 ],
 "metadata": {
  "kernelspec": {
   "display_name": "Julia 0.6.2",
   "language": "julia",
   "name": "julia-0.6"
  },
  "language_info": {
   "file_extension": ".jl",
   "mimetype": "application/julia",
   "name": "julia",
   "version": "0.6.2"
  }
 },
 "nbformat": 4,
 "nbformat_minor": 1
}
