{
 "cells": [
  {
   "cell_type": "markdown",
   "metadata": {},
   "source": [
    "# Class 2 - Types, Functions, and Object Oriented Features\n",
    "\n",
    "## Types\n",
    "\n",
    "Types in Julia come in several flavors.  For example, the following types may look somewhat familiar"
   ]
  },
  {
   "cell_type": "code",
   "execution_count": null,
   "metadata": {
    "collapsed": false
   },
   "outputs": [],
   "source": [
    "@show typeof(4)\n",
    "@show typeof(3.2)\n",
    ";"
   ]
  },
  {
   "cell_type": "markdown",
   "metadata": {},
   "source": [
    "These types hold actual data.  Every type in Julia has a \"super\" type. The type structure is like a tree - Any is the root."
   ]
  },
  {
   "cell_type": "code",
   "execution_count": null,
   "metadata": {
    "collapsed": false
   },
   "outputs": [],
   "source": [
    "@show super(Float64)\n",
    "@show super(AbstractFloat)\n",
    "@show super(Real)\n",
    "@show super(Number)\n",
    "@show super(Any)\n",
    ";"
   ]
  },
  {
   "cell_type": "markdown",
   "metadata": {},
   "source": [
    "You can query whether one type is a descendant of another using \"<:\""
   ]
  },
  {
   "cell_type": "code",
   "execution_count": null,
   "metadata": {
    "collapsed": false
   },
   "outputs": [],
   "source": [
    "@show Float64 <: AbstractFloat\n",
    "@show Float64 <: Any\n",
    "@show Float64 <: Integer\n",
    ";"
   ]
  },
  {
   "cell_type": "markdown",
   "metadata": {},
   "source": [
    "Abstract types are nodes on the tree, but you never instantiate them (we'll talk about why you might want abstract types in functions)"
   ]
  },
  {
   "cell_type": "code",
   "execution_count": null,
   "metadata": {
    "collapsed": false
   },
   "outputs": [],
   "source": [
    "abstract cme257abstract\n",
    "@show super(cme257abstract)\n",
    ";"
   ]
  },
  {
   "cell_type": "markdown",
   "metadata": {},
   "source": [
    "When you create a type, you can specify who its parent is."
   ]
  },
  {
   "cell_type": "code",
   "execution_count": null,
   "metadata": {
    "collapsed": false
   },
   "outputs": [],
   "source": [
    "type cme257int <: cme257abstract # <: denotes \"child of\"\n",
    "    x::Int64 # :: tells us exactly what type x should be\n",
    "end\n",
    "type cme257float <: cme257abstract\n",
    "    x::Float64\n",
    "end\n",
    "@show super(cme257int)\n",
    "@show super(cme257float)\n",
    ";"
   ]
  },
  {
   "cell_type": "markdown",
   "metadata": {},
   "source": [
    "To instantiate a member of the type:"
   ]
  },
  {
   "cell_type": "code",
   "execution_count": null,
   "metadata": {
    "collapsed": false
   },
   "outputs": [],
   "source": [
    "y = cme257int(4)\n",
    "y.x"
   ]
  },
  {
   "cell_type": "markdown",
   "metadata": {},
   "source": [
    "Types can be parameterized (similar to C++ templates).  The parameterized type can be inferred by the type of the arguments in the constructor, or made explicit."
   ]
  },
  {
   "cell_type": "code",
   "execution_count": null,
   "metadata": {
    "collapsed": false
   },
   "outputs": [],
   "source": [
    "type cme257par{T} <: cme257abstract\n",
    "    val::T \n",
    "end\n",
    ";"
   ]
  },
  {
   "cell_type": "code",
   "execution_count": null,
   "metadata": {
    "collapsed": false
   },
   "outputs": [],
   "source": [
    "@show y = cme257par(3.5)\n",
    "@show z = cme257par{Float64}(3)\n",
    ";"
   ]
  },
  {
   "cell_type": "markdown",
   "metadata": {},
   "source": [
    "Immutable types don't allow you to change data once you have instantiated the type.  This restriction gan give you better performance."
   ]
  },
  {
   "cell_type": "code",
   "execution_count": null,
   "metadata": {
    "collapsed": false
   },
   "outputs": [],
   "source": [
    "immutable cme257immutable <: cme257abstract\n",
    "   x \n",
    "end\n",
    "\n",
    "a = cme257immutable(5)\n",
    "@show a.x\n",
    "@show a.x = 6\n",
    ";"
   ]
  },
  {
   "cell_type": "markdown",
   "metadata": {},
   "source": [
    "## Break for Worksheet 1\n",
    "\n",
    "## Functions\n",
    "\n",
    "Functions map a tuple of arguments to an output. For example, the following function maps two inputs to their sum."
   ]
  },
  {
   "cell_type": "code",
   "execution_count": null,
   "metadata": {
    "collapsed": false
   },
   "outputs": [],
   "source": [
    "function cme257_sum(x, y)\n",
    "    return x + y\n",
    "end\n",
    "@show z = cme257_sum(1,2)\n",
    ";"
   ]
  },
  {
   "cell_type": "markdown",
   "metadata": {},
   "source": [
    "Julia uses multiple dispatch in functions.  This means you can define two functions with the same name that will behave differently based on the type of the input.  A definition of one possible behavior for a function is [called a method](docs.julialang.org/en/latest/manual/methods)."
   ]
  },
  {
   "cell_type": "code",
   "execution_count": null,
   "metadata": {
    "collapsed": false
   },
   "outputs": [],
   "source": [
    "# this may not work if you have a 32-but architecture\n",
    "function yell_my_type(x::Int64)\n",
    "    println(\"I'M AN INT64!\")\n",
    "end\n",
    "function yell_my_type(x::Float64)\n",
    "    println(\"I'M A FLOAT64!\")\n",
    "end\n",
    "yell_my_type(3)\n",
    "yell_my_type(3.4)\n",
    ";"
   ]
  },
  {
   "cell_type": "markdown",
   "metadata": {},
   "source": [
    "If you've only defined your function for particular types, you may see an error like this:"
   ]
  },
  {
   "cell_type": "code",
   "execution_count": null,
   "metadata": {
    "collapsed": false
   },
   "outputs": [],
   "source": [
    "yell_my_type(3//4)"
   ]
  },
  {
   "cell_type": "markdown",
   "metadata": {},
   "source": [
    "Errors can be bad if you expect the function to behave a certain way, or good if they indicate that someone is using your function incorrectly.  If you want the same behavior for all types that share an ancestor, you can use \"<:\""
   ]
  },
  {
   "cell_type": "code",
   "execution_count": null,
   "metadata": {
    "collapsed": false
   },
   "outputs": [],
   "source": [
    "function yell_my_type{T <: Number}(x::T)\n",
    "    println(\"I'M A NUMBER!\")\n",
    "end\n",
    "yell_my_type(3//4)\n",
    "yell_my_type(3.4) # note that the more specific function declaration is used\n",
    ";"
   ]
  },
  {
   "cell_type": "markdown",
   "metadata": {},
   "source": [
    "If you want to try to cover all possible inputs, you can just leave off type annotations.  Your more specific methods will still be used for the relevant inputs."
   ]
  },
  {
   "cell_type": "code",
   "execution_count": null,
   "metadata": {
    "collapsed": false
   },
   "outputs": [],
   "source": [
    "function yell_my_type(x)\n",
    "    println(\"I DON'T KNOW MY TYPE!\")\n",
    "end\n",
    "yell_my_type(yell_my_type) # everything in Julia has a type.  Even functions.\n",
    "yell_my_type(3//4)\n",
    "yell_my_type(3.4)\n",
    ";"
   ]
  },
  {
   "cell_type": "markdown",
   "metadata": {},
   "source": [
    "You can also add new methods to Julia's built in functions:"
   ]
  },
  {
   "cell_type": "code",
   "execution_count": null,
   "metadata": {
    "collapsed": false
   },
   "outputs": [],
   "source": [
    "import Base.+\n",
    "function +(a::cme257int, b::cme257int)\n",
    "    return cme257int((a.x+b.x))\n",
    "end\n",
    "a = cme257int(3)\n",
    "b = cme257int(4)\n",
    "@show a + b\n",
    ";"
   ]
  },
  {
   "cell_type": "markdown",
   "metadata": {},
   "source": [
    "## Break for Worksheet 2"
   ]
  },
  {
   "cell_type": "markdown",
   "metadata": {
    "collapsed": true
   },
   "source": [
    "## More on Types and Functions\n",
    "\n",
    "Sometimes you may wish to have optional arguments to a function that default to certain values."
   ]
  },
  {
   "cell_type": "code",
   "execution_count": null,
   "metadata": {
    "collapsed": false
   },
   "outputs": [],
   "source": [
    "function say(str=\"hello\")\n",
    "    println(\"$str\")\n",
    "end\n",
    "say()\n",
    "say(\"goodbye\")\n",
    ";"
   ]
  },
  {
   "cell_type": "markdown",
   "metadata": {},
   "source": [
    "What if you have defined a special integer type (such as cme257int), and want to add a method to \"/\" to implement division?  The true answer may be something that is not an integer, so you may wish to convert to a cme257float."
   ]
  },
  {
   "cell_type": "code",
   "execution_count": null,
   "metadata": {
    "collapsed": false
   },
   "outputs": [],
   "source": [
    "function convert(::Type{cme257float}, a::cme257int) \n",
    "    return cme257float(a.x)\n",
    "end\n",
    "@show a = cme257int(5)\n",
    "@show convert(cme257float, a)\n",
    ";"
   ]
  },
  {
   "cell_type": "markdown",
   "metadata": {},
   "source": [
    "now since we can convert cme257ints to cme257floats, we can define division"
   ]
  },
  {
   "cell_type": "code",
   "execution_count": null,
   "metadata": {
    "collapsed": false
   },
   "outputs": [],
   "source": [
    "import Base./\n",
    "function /(a::cme257float, b::cme257float)\n",
    "    return cme257float(a.x / b.x) \n",
    "end\n",
    "\n",
    "function /(a::cme257int, b::cme257int)\n",
    "    return convert(cme257float, a) / convert(cme257float, b) \n",
    "end\n",
    "\n",
    "a = cme257int(5)\n",
    "b = cme257int(4)\n",
    "@show a/b\n",
    ";"
   ]
  },
  {
   "cell_type": "markdown",
   "metadata": {},
   "source": [
    "Note that Julia's built in arithmetic types and operators already have conversion defined and implemented where necessary.  You mostly need to know about this if you're defining your own types.\n",
    "\n",
    "## Modules\n",
    "\n",
    "Modules are useful for packaging (modularizing) functionality that you create.  This allows you to re-use code, or automatically import functions that you like to use when you start a new Julia session."
   ]
  },
  {
   "cell_type": "code",
   "execution_count": null,
   "metadata": {
    "collapsed": false
   },
   "outputs": [],
   "source": [
    "include(\"cme257mod.jl\") # you need to provide an accurate absolute or relative path\n",
    "cme257mod.speak()\n",
    "@show x = cme257mod.ModType(5)\n",
    ";"
   ]
  },
  {
   "cell_type": "markdown",
   "metadata": {},
   "source": [
    "## Break for Worksheet 3"
   ]
  }
 ],
 "metadata": {
  "kernelspec": {
   "display_name": "Julia 0.5.0-dev",
   "language": "julia",
   "name": "julia-0.5"
  },
  "language_info": {
   "file_extension": ".jl",
   "mimetype": "application/julia",
   "name": "julia",
   "version": "0.5.0"
  }
 },
 "nbformat": 4,
 "nbformat_minor": 0
}
