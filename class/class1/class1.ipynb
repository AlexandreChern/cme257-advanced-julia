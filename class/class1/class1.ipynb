{
 "cells": [
  {
   "cell_type": "markdown",
   "metadata": {},
   "source": [
    "# CME 257 - Getting Started"
   ]
  },
  {
   "cell_type": "markdown",
   "metadata": {
    "collapsed": false
   },
   "source": [
    "## What is Julia?\n",
    "\n",
    "[Julia](https://github.com/JuliaLang/julia) is a relatively new language designed for scientific computing.  You'll find similarities to MATLAB and Python, but will also find differences.  It is rapidly gaining popularity in the scientific computing community (for example, its optimization pacakges are very popular).  Lots of development is happening at MIT, but Stanford has its fair share of users and contributors.\n",
    "\n",
    "Some features (see [julialang.org](http://julialang.org/)):\n",
    "* multiple dispatch functions (overload for different argument type combinations)\n",
    "* dynamic type system (user-defined types perform well)\n",
    "* macros and metaprogramming\n",
    "* call python and C\n",
    "* parallelism and distributed execution\n",
    "* built on LLVM\n",
    "* just-in-time compiliation (JIT)"
   ]
  },
  {
   "cell_type": "markdown",
   "metadata": {
    "collapsed": false
   },
   "source": [
    "## Why use Julia?\n",
    "\n",
    "* Open-source (MIT license)\n",
    "* Built with scientific computing in mind\n",
    "* Built with parallelism and distribution in mind\n",
    "* Performance ([julia's figure](http://julialang.org/benchmarks/))\n",
    "* Packages (built-in package manager)\n",
    "* Easy to call C libraries, python\n",
    "* Supports multiple programming paradigms (OO, functional)\n",
    "* You can have an impact"
   ]
  },
  {
   "cell_type": "markdown",
   "metadata": {
    "collapsed": true
   },
   "source": [
    "## Scripts\n",
    "\n",
    "You can run julia scripts from the command line or use them to import code into a live session\n",
    "\n",
    "You can see an example in class1.jl:\n",
    "\n",
    "```julia\n",
    "println(\"Hello from class1.jl\")\n",
    "```\n",
    "\n",
    "Bash:\n",
    "```bash\n",
    "julia script.jl\n",
    "```\n",
    "\n",
    "Julia:\n",
    "```julia\n",
    "include(\"script.jl\")\n",
    "```\n",
    "\n",
    "You can use scripts to automate what you might do manually using the Julia prompt.\n",
    "\n",
    "Your first homework will involve writing a simple script."
   ]
  },
  {
   "cell_type": "markdown",
   "metadata": {},
   "source": [
    "## Compile Julia\n",
    "\n",
    "(If you haven't already)\n",
    "\n",
    "1. Create a GitHub account\n",
    "2. Upload SSH keys\n",
    "3. Open up a terminal\n",
    "```bash\n",
    "git clone git@github.com:JuliaLang/julia.git\n",
    "cd julia\n",
    "make\n",
    "```\n"
   ]
  }
 ],
 "metadata": {
  "kernelspec": {
   "display_name": "Julia 0.5.0-dev",
   "language": "julia",
   "name": "julia-0.5"
  },
  "language_info": {
   "file_extension": ".jl",
   "mimetype": "application/julia",
   "name": "julia",
   "version": "0.5.0"
  }
 },
 "nbformat": 4,
 "nbformat_minor": 0
}
